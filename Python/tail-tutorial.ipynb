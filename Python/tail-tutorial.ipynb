{
 "cells": [
  {
   "cell_type": "markdown",
   "metadata": {},
   "source": [
    "## Extending Development Patterns with Tails\n",
    "\n",
    "### Getting started\n",
    "All exercises rely on chainladder v0.5.5 and later.  There have also been breaking changes with `pandas 1.0` and if you are using an earlier version, date slicing may behave differently."
   ]
  },
  {
   "cell_type": "code",
   "execution_count": 2,
   "metadata": {},
   "outputs": [
    {
     "name": "stdout",
     "output_type": "stream",
     "text": [
      "chainladder:0.7.12\n",
      "pandas:1.2.2\n"
     ]
    }
   ],
   "source": [
    "import pandas as pd\n",
    "import numpy as np\n",
    "import chainladder as cl\n",
    "import seaborn as sns\n",
    "sns.set_style('whitegrid')\n",
    "%matplotlib inline\n",
    "print('chainladder:' + cl.__version__)\n",
    "print('pandas:' + pd.__version__)"
   ]
  },
  {
   "cell_type": "code",
   "execution_count": 3,
   "metadata": {},
   "outputs": [],
   "source": [
    "import warnings\n",
    "warnings.filterwarnings(\"ignore\", category=DeprecationWarning)"
   ]
  },
  {
   "cell_type": "markdown",
   "metadata": {},
   "source": [
    "### Basic tail fitting\n",
    "\n",
    "Tails are another class of tranformers, and similar to the `Development` estimator they come with `fit`, `transform` and `fit_transform` methods. Also like our `Development` estimator, you can define a tail in the absence of any data."
   ]
  },
  {
   "cell_type": "code",
   "execution_count": 4,
   "metadata": {},
   "outputs": [
    {
     "data": {
      "text/plain": [
       "TailCurve()"
      ]
     },
     "execution_count": 4,
     "metadata": {},
     "output_type": "execute_result"
    }
   ],
   "source": [
    "tail = cl.TailCurve()\n",
    "tail"
   ]
  },
  {
   "cell_type": "markdown",
   "metadata": {},
   "source": [
    "Upon fitting data, we get updated `cdf_` and `ldf_` attributes that extend beyond the length of the triangle.  Notice how our tail includes extra development periods (age 147) beyond the end of the triangle (age 135) at which point an age-to-ultimate tail factor is applied."
   ]
  },
  {
   "cell_type": "code",
   "execution_count": 5,
   "metadata": {},
   "outputs": [
    {
     "name": "stdout",
     "output_type": "stream",
     "text": [
      "Triangle latest 135\n"
     ]
    },
    {
     "data": {
      "text/html": [
       "<table border=\"1\" class=\"dataframe\">\n",
       "  <thead>\n",
       "    <tr style=\"text-align: right;\">\n",
       "      <th></th>\n",
       "      <th>3-6</th>\n",
       "      <th>6-9</th>\n",
       "      <th>9-12</th>\n",
       "      <th>12-15</th>\n",
       "      <th>15-18</th>\n",
       "      <th>18-21</th>\n",
       "      <th>21-24</th>\n",
       "      <th>24-27</th>\n",
       "      <th>27-30</th>\n",
       "      <th>30-33</th>\n",
       "      <th>...</th>\n",
       "      <th>120-123</th>\n",
       "      <th>123-126</th>\n",
       "      <th>126-129</th>\n",
       "      <th>129-132</th>\n",
       "      <th>132-135</th>\n",
       "      <th>135-138</th>\n",
       "      <th>138-141</th>\n",
       "      <th>141-144</th>\n",
       "      <th>144-147</th>\n",
       "      <th>147-150</th>\n",
       "    </tr>\n",
       "  </thead>\n",
       "  <tbody>\n",
       "    <tr>\n",
       "      <th>(All)</th>\n",
       "      <td>8.5625</td>\n",
       "      <td>3.5547</td>\n",
       "      <td>2.7659</td>\n",
       "      <td>1.9332</td>\n",
       "      <td>1.6055</td>\n",
       "      <td>1.4011</td>\n",
       "      <td>1.3270</td>\n",
       "      <td>1.1658</td>\n",
       "      <td>1.1098</td>\n",
       "      <td>1.0780</td>\n",
       "      <td>...</td>\n",
       "      <td>1.0000</td>\n",
       "      <td>1.0009</td>\n",
       "      <td>1.0000</td>\n",
       "      <td>1.0009</td>\n",
       "      <td>1.0000</td>\n",
       "      <td>1.0001</td>\n",
       "      <td>1.0001</td>\n",
       "      <td>1.0001</td>\n",
       "      <td>1.0001</td>\n",
       "      <td>1.0003</td>\n",
       "    </tr>\n",
       "  </tbody>\n",
       "</table>"
      ],
      "text/plain": [
       "          3-6       6-9      9-12     12-15     15-18     18-21     21-24     24-27     27-30     30-33     33-36     36-39    39-42    42-45     45-48     48-51    51-54     54-57     57-60     60-63     63-66     66-69     69-72     72-75     75-78     78-81     81-84     84-87     87-90     90-93     93-96     96-99    99-102   102-105   105-108   108-111   111-114   114-117  117-120  120-123   123-126  126-129  129-132  132-135   135-138   138-141   141-144   144-147  147-150\n",
       "(All)  8.5625  3.554745  2.765914  1.933185  1.605535  1.401081  1.327029  1.165767  1.109803  1.077971  1.054556  1.046539  1.03534  1.03039  1.028639  1.017245  1.01494  1.010918  1.014197  1.008495  1.013206  1.008549  1.007365  1.005104  1.006258  1.009568  1.006634  1.002668  1.001661  1.002694  1.005374  1.001645  1.000838  1.001117  1.001673  1.000278  1.000835  0.999583      1.0      1.0  1.000911      1.0  1.00091      1.0  1.000119  1.000097  1.000079  1.000065  1.00029"
      ]
     },
     "execution_count": 5,
     "metadata": {},
     "output_type": "execute_result"
    }
   ],
   "source": [
    "quarterly = cl.load_sample('quarterly')\n",
    "tail.fit(quarterly)\n",
    "\n",
    "print('Triangle latest', quarterly.development.max())\n",
    "tail.fit(quarterly).ldf_['paid']"
   ]
  },
  {
   "cell_type": "markdown",
   "metadata": {},
   "source": [
    "These extra twelve months (one year) of development patterns are included as it is typical to want to track IBNR run-off over a 1-year time horizon from the valuation date.  The one-year extension is currently fixed at one year and there is no ability to extend it even further. However, a subsequent version of `chainladder` will look to address this issue.  "
   ]
  },
  {
   "cell_type": "markdown",
   "metadata": {},
   "source": [
    "### Curve fitting\n",
    "\n",
    "Curve fitting takes selected development patterns and extrapolates them using either an `exponential` or `inverse_power` fit.  In most cases, the `inverse_power` produces a thicker (more conservative) tail."
   ]
  },
  {
   "cell_type": "code",
   "execution_count": 6,
   "metadata": {},
   "outputs": [
    {
     "data": {
      "text/html": [
       "<div>\n",
       "<style scoped>\n",
       "    .dataframe tbody tr th:only-of-type {\n",
       "        vertical-align: middle;\n",
       "    }\n",
       "\n",
       "    .dataframe tbody tr th {\n",
       "        vertical-align: top;\n",
       "    }\n",
       "\n",
       "    .dataframe thead th {\n",
       "        text-align: right;\n",
       "    }\n",
       "</style>\n",
       "<table border=\"1\" class=\"dataframe\">\n",
       "  <thead>\n",
       "    <tr style=\"text-align: right;\">\n",
       "      <th></th>\n",
       "      <th>135-Ult</th>\n",
       "    </tr>\n",
       "  </thead>\n",
       "  <tbody>\n",
       "    <tr>\n",
       "      <th>(All)</th>\n",
       "      <td>1.021283</td>\n",
       "    </tr>\n",
       "  </tbody>\n",
       "</table>\n",
       "</div>"
      ],
      "text/plain": [
       "        135-Ult\n",
       "(All)  1.021283"
      ]
     },
     "execution_count": 6,
     "metadata": {},
     "output_type": "execute_result"
    }
   ],
   "source": [
    "inv = cl.TailCurve(curve='inverse_power').fit(quarterly['paid'])\n",
    "inv.tail_"
   ]
  },
  {
   "cell_type": "code",
   "execution_count": 7,
   "metadata": {},
   "outputs": [
    {
     "data": {
      "text/html": [
       "<div>\n",
       "<style scoped>\n",
       "    .dataframe tbody tr th:only-of-type {\n",
       "        vertical-align: middle;\n",
       "    }\n",
       "\n",
       "    .dataframe tbody tr th {\n",
       "        vertical-align: top;\n",
       "    }\n",
       "\n",
       "    .dataframe thead th {\n",
       "        text-align: right;\n",
       "    }\n",
       "</style>\n",
       "<table border=\"1\" class=\"dataframe\">\n",
       "  <thead>\n",
       "    <tr style=\"text-align: right;\">\n",
       "      <th></th>\n",
       "      <th>135-Ult</th>\n",
       "    </tr>\n",
       "  </thead>\n",
       "  <tbody>\n",
       "    <tr>\n",
       "      <th>(All)</th>\n",
       "      <td>1.00065</td>\n",
       "    </tr>\n",
       "  </tbody>\n",
       "</table>\n",
       "</div>"
      ],
      "text/plain": [
       "       135-Ult\n",
       "(All)  1.00065"
      ]
     },
     "execution_count": 7,
     "metadata": {},
     "output_type": "execute_result"
    }
   ],
   "source": [
    "exp = cl.TailCurve(curve='exponential').fit(quarterly['paid'])\n",
    "exp.tail_"
   ]
  },
  {
   "cell_type": "markdown",
   "metadata": {},
   "source": [
    "When fitting a tail, you have a choice of which development patterns you want to include in the curve fitting process, the `fit_period`.  In addition, you can also specify how far beyond the triangle to project the tail factor before dropping down to a 1.0 factor, `extrap_periods`.\n",
    "\n",
    "These come with defaults of fitting to all data and extrapolating the patterns 100 periods beyond the end of the triangle.  \n",
    "\n",
    "**Note** that even though you can extrapolate the curve many years beyond the end of the triangle for computational purposes, the resultant development factors will compress all`ldf_` beyond one year into a single age-ultimate factor. "
   ]
  },
  {
   "cell_type": "code",
   "execution_count": 8,
   "metadata": {},
   "outputs": [
    {
     "data": {
      "text/html": [
       "<table border=\"1\" class=\"dataframe\">\n",
       "  <thead>\n",
       "    <tr style=\"text-align: right;\">\n",
       "      <th></th>\n",
       "      <th>3-6</th>\n",
       "      <th>6-9</th>\n",
       "      <th>9-12</th>\n",
       "      <th>12-15</th>\n",
       "      <th>15-18</th>\n",
       "      <th>18-21</th>\n",
       "      <th>21-24</th>\n",
       "      <th>24-27</th>\n",
       "      <th>27-30</th>\n",
       "      <th>30-33</th>\n",
       "      <th>...</th>\n",
       "      <th>120-123</th>\n",
       "      <th>123-126</th>\n",
       "      <th>126-129</th>\n",
       "      <th>129-132</th>\n",
       "      <th>132-135</th>\n",
       "      <th>135-138</th>\n",
       "      <th>138-141</th>\n",
       "      <th>141-144</th>\n",
       "      <th>144-147</th>\n",
       "      <th>147-150</th>\n",
       "    </tr>\n",
       "  </thead>\n",
       "  <tbody>\n",
       "    <tr>\n",
       "      <th>(All)</th>\n",
       "      <td>3.5988</td>\n",
       "      <td>2.4768</td>\n",
       "      <td>2.7341</td>\n",
       "      <td>1.4683</td>\n",
       "      <td>1.2966</td>\n",
       "      <td>1.1825</td>\n",
       "      <td>1.2418</td>\n",
       "      <td>1.0451</td>\n",
       "      <td>1.0440</td>\n",
       "      <td>1.0365</td>\n",
       "      <td>...</td>\n",
       "      <td>0.9996</td>\n",
       "      <td>1.0000</td>\n",
       "      <td>0.9982</td>\n",
       "      <td>1.0027</td>\n",
       "      <td>0.9991</td>\n",
       "      <td>1.0003</td>\n",
       "      <td>1.0003</td>\n",
       "      <td>1.0003</td>\n",
       "      <td>1.0002</td>\n",
       "      <td>1.0014</td>\n",
       "    </tr>\n",
       "  </tbody>\n",
       "</table>"
      ],
      "text/plain": [
       "            3-6       6-9      9-12     12-15     15-18     18-21    21-24     24-27     27-30     30-33     33-36    36-39     39-42     42-45     45-48     48-51     51-54     54-57    57-60     60-63     63-66     66-69    69-72     72-75     75-78     78-81     81-84     84-87     87-90    90-93     93-96     96-99    99-102   102-105   105-108   108-111   111-114   114-117   117-120   120-123  123-126   126-129   129-132   132-135   135-138   138-141   141-144   144-147   147-150\n",
       "(All)  3.598765  2.476844  2.734072  1.468338  1.296558  1.182523  1.24184  1.045144  1.043969  1.036461  1.036835  1.02265  0.997308  1.032489  1.019202  0.997929  1.005544  1.011627  1.01173  1.003865  1.010892  1.009946  1.00807  0.999864  1.006029  1.008043  1.005945  0.999689  1.003302  1.00144  1.004519  1.000409  1.001669  1.001111  0.999168  0.999445  1.002501  0.997921  1.000417  0.999584      1.0  0.998182  1.002732  0.999092  1.000335  1.000291  1.000253  1.000219  1.001438"
      ]
     },
     "execution_count": 8,
     "metadata": {},
     "output_type": "execute_result"
    }
   ],
   "source": [
    "cl.TailCurve(fit_period=(15,None), extrap_periods=50).fit(quarterly).ldf_['incurred']"
   ]
  },
  {
   "cell_type": "markdown",
   "metadata": {},
   "source": [
    "In this example, we ignore the first five development patterns for curve fitting, and we allow our tail extrapolation to go 50 quarters beyond the end of the triangle.  Note that both `fit_period` and `extrap_periods` follow the `development_grain` of the triangle being fit."
   ]
  },
  {
   "cell_type": "markdown",
   "metadata": {},
   "source": [
    "### Chaining multiple transformers together\n"
   ]
  },
  {
   "cell_type": "markdown",
   "metadata": {},
   "source": [
    "`chainladder` transformers take `Triangle` objects as input, but the also return `Triangle` objects with their `transform` method.  To chain multiple transformers together, you must invoke the `transform` method on each transformer similar to how `sklearn` approaches its own tranformers.   "
   ]
  },
  {
   "cell_type": "code",
   "execution_count": 9,
   "metadata": {},
   "outputs": [
    {
     "name": "stdout",
     "output_type": "stream",
     "text": [
      "This fails because we did not transform our triangle\n",
      "This passes because we transform our triangle\n"
     ]
    },
    {
     "data": {
      "text/plain": [
       "TailCurve()"
      ]
     },
     "execution_count": 9,
     "metadata": {},
     "output_type": "execute_result"
    }
   ],
   "source": [
    "try:\n",
    "    cl.TailCurve().fit(cl.Development().fit(quarterly))\n",
    "except:\n",
    "    print('This fails because we did not transform our triangle')\n",
    "\n",
    "print('This passes because we transform our triangle')\n",
    "cl.TailCurve().fit(cl.Development().fit_transform(quarterly))"
   ]
  },
  {
   "cell_type": "markdown",
   "metadata": {},
   "source": [
    "We can see that we can just nest one transformed object in another transformer to chain two or more transformers together.  Alternatively, we can rewrite this more cleanly as:"
   ]
  },
  {
   "cell_type": "code",
   "execution_count": 10,
   "metadata": {},
   "outputs": [
    {
     "data": {
      "text/plain": [
       "TailCurve()"
      ]
     },
     "execution_count": 10,
     "metadata": {},
     "output_type": "execute_result"
    }
   ],
   "source": [
    "dev = cl.Development().fit_transform(quarterly)\n",
    "tail = cl.TailCurve().fit(dev)\n",
    "tail"
   ]
  },
  {
   "cell_type": "markdown",
   "metadata": {},
   "source": [
    "Chaining multiple transformers together is a very common pattern in `chainladder`.  Like its inspiration `sklearn`, we can create an overall estimator known as a `Pipeline` that combines multiple transformers and optionally predictors as well in one estimator. "
   ]
  },
  {
   "cell_type": "code",
   "execution_count": 11,
   "metadata": {},
   "outputs": [],
   "source": [
    "steps=[('dev', cl.Development(average='simple')),\n",
    "       ('tail', cl.TailCurve(curve='inverse_power'))]\n",
    "\n",
    "pipe = cl.Pipeline(steps=steps).fit(quarterly)"
   ]
  },
  {
   "cell_type": "markdown",
   "metadata": {},
   "source": [
    "`Pipelines` keep references to each step with its `named_steps` argument."
   ]
  },
  {
   "cell_type": "code",
   "execution_count": 12,
   "metadata": {},
   "outputs": [
    {
     "name": "stdout",
     "output_type": "stream",
     "text": [
      "Development(average='simple')\n",
      "TailCurve(curve='inverse_power')\n"
     ]
    }
   ],
   "source": [
    "print(pipe.named_steps.dev)\n",
    "print(pipe.named_steps.tail)"
   ]
  },
  {
   "cell_type": "markdown",
   "metadata": {},
   "source": [
    "The `Pipeline` estimator is almost an exact replica of the `sklearn Pipeline`.  The docs for `sklearn` are very comprehensive and to learn more about `Pipeline`, you can [visit their docs](https://scikit-learn.org/stable/modules/compose.html#pipeline)."
   ]
  },
  {
   "cell_type": "markdown",
   "metadata": {},
   "source": [
    "With a `Triangle` transformed to include development patterns and tails, we are now ready to start fitting our suite of IBNR models."
   ]
  },
  {
   "cell_type": "code",
   "execution_count": null,
   "metadata": {},
   "outputs": [],
   "source": []
  }
 ],
 "metadata": {
  "kernelspec": {
   "display_name": "Python 3",
   "language": "python",
   "name": "python3"
  },
  "language_info": {
   "codemirror_mode": {
    "name": "ipython",
    "version": 3
   },
   "file_extension": ".py",
   "mimetype": "text/x-python",
   "name": "python",
   "nbconvert_exporter": "python",
   "pygments_lexer": "ipython3",
   "version": "3.8.5"
  }
 },
 "nbformat": 4,
 "nbformat_minor": 4
}

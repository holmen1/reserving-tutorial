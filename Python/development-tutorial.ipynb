{
 "cells": [
  {
   "cell_type": "markdown",
   "metadata": {},
   "source": [
    "## Development tutorial\n",
    "\n",
    "### Getting started\n",
    "All exercises rely on chainladder v0.5.5 and later.  There have also been breaking changes with `pandas 1.0` and if you are using an earlier version, date slicing may behave differently."
   ]
  },
  {
   "cell_type": "code",
   "execution_count": 1,
   "metadata": {},
   "outputs": [
    {
     "name": "stdout",
     "output_type": "stream",
     "text": [
      "chainladder:0.7.9\n",
      "pandas:1.0.4\n"
     ]
    }
   ],
   "source": [
    "import chainladder as cl\n",
    "import pandas as pd\n",
    "print('chainladder:' + cl.__version__)\n",
    "print('pandas:' + pd.__version__)"
   ]
  },
  {
   "cell_type": "markdown",
   "metadata": {},
   "source": [
    "### Should you develop with Chain-Ladder?"
   ]
  },
  {
   "cell_type": "markdown",
   "metadata": {},
   "source": [
    "The Chain Ladder method is based on the strong assumptions of independence across origin years and across valuation years. \n",
    "Mack developed tests to verify if these assumptions hold, and these tests have been implemented in chainladder."
   ]
  },
  {
   "cell_type": "markdown",
   "metadata": {},
   "source": [
    "You should verify that your data satisfies these tests at the required confidence interval level. If it does not, you should consider if the\n",
    "development would be better done in other ways, for example using an AR model instead.\n",
    "Below is an example of how to test independence across origin and development years"
   ]
  },
  {
   "cell_type": "code",
   "execution_count": 3,
   "metadata": {},
   "outputs": [
    {
     "data": {
      "text/html": [
       "<table border=\"1\" class=\"dataframe\">\n",
       "  <thead>\n",
       "    <tr style=\"text-align: right;\">\n",
       "      <th></th>\n",
       "      <th>12</th>\n",
       "      <th>24</th>\n",
       "      <th>36</th>\n",
       "      <th>48</th>\n",
       "      <th>60</th>\n",
       "      <th>72</th>\n",
       "      <th>84</th>\n",
       "      <th>96</th>\n",
       "      <th>108</th>\n",
       "      <th>120</th>\n",
       "    </tr>\n",
       "  </thead>\n",
       "  <tbody>\n",
       "    <tr>\n",
       "      <th>1981</th>\n",
       "      <td>5,012</td>\n",
       "      <td>8,269</td>\n",
       "      <td>10,907</td>\n",
       "      <td>11,805</td>\n",
       "      <td>13,539</td>\n",
       "      <td>16,181</td>\n",
       "      <td>18,009</td>\n",
       "      <td>18,608</td>\n",
       "      <td>18,662</td>\n",
       "      <td>18,834</td>\n",
       "    </tr>\n",
       "    <tr>\n",
       "      <th>1982</th>\n",
       "      <td>106</td>\n",
       "      <td>4,285</td>\n",
       "      <td>5,396</td>\n",
       "      <td>10,666</td>\n",
       "      <td>13,782</td>\n",
       "      <td>15,599</td>\n",
       "      <td>15,496</td>\n",
       "      <td>16,169</td>\n",
       "      <td>16,704</td>\n",
       "      <td></td>\n",
       "    </tr>\n",
       "    <tr>\n",
       "      <th>1983</th>\n",
       "      <td>3,410</td>\n",
       "      <td>8,992</td>\n",
       "      <td>13,873</td>\n",
       "      <td>16,141</td>\n",
       "      <td>18,735</td>\n",
       "      <td>22,214</td>\n",
       "      <td>22,863</td>\n",
       "      <td>23,466</td>\n",
       "      <td></td>\n",
       "      <td></td>\n",
       "    </tr>\n",
       "    <tr>\n",
       "      <th>1984</th>\n",
       "      <td>5,655</td>\n",
       "      <td>11,555</td>\n",
       "      <td>15,766</td>\n",
       "      <td>21,266</td>\n",
       "      <td>23,425</td>\n",
       "      <td>26,083</td>\n",
       "      <td>27,067</td>\n",
       "      <td></td>\n",
       "      <td></td>\n",
       "      <td></td>\n",
       "    </tr>\n",
       "    <tr>\n",
       "      <th>1985</th>\n",
       "      <td>1,092</td>\n",
       "      <td>9,565</td>\n",
       "      <td>15,836</td>\n",
       "      <td>22,169</td>\n",
       "      <td>25,955</td>\n",
       "      <td>26,180</td>\n",
       "      <td></td>\n",
       "      <td></td>\n",
       "      <td></td>\n",
       "      <td></td>\n",
       "    </tr>\n",
       "    <tr>\n",
       "      <th>1986</th>\n",
       "      <td>1,513</td>\n",
       "      <td>6,445</td>\n",
       "      <td>11,702</td>\n",
       "      <td>12,935</td>\n",
       "      <td>15,852</td>\n",
       "      <td></td>\n",
       "      <td></td>\n",
       "      <td></td>\n",
       "      <td></td>\n",
       "      <td></td>\n",
       "    </tr>\n",
       "    <tr>\n",
       "      <th>1987</th>\n",
       "      <td>557</td>\n",
       "      <td>4,020</td>\n",
       "      <td>10,946</td>\n",
       "      <td>12,314</td>\n",
       "      <td></td>\n",
       "      <td></td>\n",
       "      <td></td>\n",
       "      <td></td>\n",
       "      <td></td>\n",
       "      <td></td>\n",
       "    </tr>\n",
       "    <tr>\n",
       "      <th>1988</th>\n",
       "      <td>1,351</td>\n",
       "      <td>6,947</td>\n",
       "      <td>13,112</td>\n",
       "      <td></td>\n",
       "      <td></td>\n",
       "      <td></td>\n",
       "      <td></td>\n",
       "      <td></td>\n",
       "      <td></td>\n",
       "      <td></td>\n",
       "    </tr>\n",
       "    <tr>\n",
       "      <th>1989</th>\n",
       "      <td>3,133</td>\n",
       "      <td>5,395</td>\n",
       "      <td></td>\n",
       "      <td></td>\n",
       "      <td></td>\n",
       "      <td></td>\n",
       "      <td></td>\n",
       "      <td></td>\n",
       "      <td></td>\n",
       "      <td></td>\n",
       "    </tr>\n",
       "    <tr>\n",
       "      <th>1990</th>\n",
       "      <td>2,063</td>\n",
       "      <td></td>\n",
       "      <td></td>\n",
       "      <td></td>\n",
       "      <td></td>\n",
       "      <td></td>\n",
       "      <td></td>\n",
       "      <td></td>\n",
       "      <td></td>\n",
       "      <td></td>\n",
       "    </tr>\n",
       "  </tbody>\n",
       "</table>"
      ],
      "text/plain": [
       "         12       24       36       48       60       72       84       96       108      120\n",
       "1981  5012.0   8269.0  10907.0  11805.0  13539.0  16181.0  18009.0  18608.0  18662.0  18834.0\n",
       "1982   106.0   4285.0   5396.0  10666.0  13782.0  15599.0  15496.0  16169.0  16704.0      NaN\n",
       "1983  3410.0   8992.0  13873.0  16141.0  18735.0  22214.0  22863.0  23466.0      NaN      NaN\n",
       "1984  5655.0  11555.0  15766.0  21266.0  23425.0  26083.0  27067.0      NaN      NaN      NaN\n",
       "1985  1092.0   9565.0  15836.0  22169.0  25955.0  26180.0      NaN      NaN      NaN      NaN\n",
       "1986  1513.0   6445.0  11702.0  12935.0  15852.0      NaN      NaN      NaN      NaN      NaN\n",
       "1987   557.0   4020.0  10946.0  12314.0      NaN      NaN      NaN      NaN      NaN      NaN\n",
       "1988  1351.0   6947.0  13112.0      NaN      NaN      NaN      NaN      NaN      NaN      NaN\n",
       "1989  3133.0   5395.0      NaN      NaN      NaN      NaN      NaN      NaN      NaN      NaN\n",
       "1990  2063.0      NaN      NaN      NaN      NaN      NaN      NaN      NaN      NaN      NaN"
      ]
     },
     "execution_count": 3,
     "metadata": {},
     "output_type": "execute_result"
    }
   ],
   "source": [
    "raa = cl.load_sample('raa')\n",
    "raa"
   ]
  },
  {
   "cell_type": "code",
   "execution_count": 7,
   "metadata": {},
   "outputs": [
    {
     "name": "stdout",
     "output_type": "stream",
     "text": [
      "Correlation across valuation years?  [[False]]\n",
      "Correlation across origin years?  [[False]]\n"
     ]
    }
   ],
   "source": [
    "print('Correlation across valuation years? ', raa.valuation_correlation(p_critical=.1, total=True).z_critical.values)\n",
    "print('Correlation across origin years? ', raa.development_correlation(p_critical=.5).t_critical.values)"
   ]
  },
  {
   "cell_type": "markdown",
   "metadata": {},
   "source": [
    "The above tests show that the `raa` triangle is independent in both cases, suggesting that Chain Ladder is indeed an appropriate method to develop it.\n",
    "It is suggested to read Mack (1993) and Mack (1997) [refs] to ensure a proper understanding of the methodology and the choice of p_critical."
   ]
  },
  {
   "cell_type": "markdown",
   "metadata": {},
   "source": [
    "Mack (1997) differs from Mack (1993) for testing valuation years correlation. The first paper looks at the aggregate of all years, while the latter suggests to check independence for each valuation year and if dependence does appear in one year, to reduce the weight for such year in the development process [how?]\n",
    "To test for each valuation year one can run"
   ]
  },
  {
   "cell_type": "code",
   "execution_count": 8,
   "metadata": {},
   "outputs": [
    {
     "data": {
      "text/html": [
       "<table border=\"1\" class=\"dataframe\">\n",
       "  <thead>\n",
       "    <tr style=\"text-align: right;\">\n",
       "      <th></th>\n",
       "      <th>1982</th>\n",
       "      <th>1983</th>\n",
       "      <th>1984</th>\n",
       "      <th>1985</th>\n",
       "      <th>1986</th>\n",
       "      <th>1987</th>\n",
       "      <th>1988</th>\n",
       "      <th>1989</th>\n",
       "      <th>1990</th>\n",
       "    </tr>\n",
       "  </thead>\n",
       "  <tbody>\n",
       "    <tr>\n",
       "      <th>1981</th>\n",
       "      <td>False</td>\n",
       "      <td>False</td>\n",
       "      <td>False</td>\n",
       "      <td>False</td>\n",
       "      <td>False</td>\n",
       "      <td>False</td>\n",
       "      <td>False</td>\n",
       "      <td>False</td>\n",
       "      <td>False</td>\n",
       "    </tr>\n",
       "  </tbody>\n",
       "</table>"
      ],
      "text/plain": [
       "       1982   1983   1984   1985   1986   1987   1988   1989   1990\n",
       "1981  False  False  False  False  False  False  False  False  False"
      ]
     },
     "execution_count": 8,
     "metadata": {},
     "output_type": "execute_result"
    }
   ],
   "source": [
    "# Setting total=False provides a year-by-year test\n",
    "raa.valuation_correlation(p_critical=.1, total=False).z_critical"
   ]
  },
  {
   "cell_type": "markdown",
   "metadata": {},
   "source": [
    "Please note that the tests are run on the entire 4 dimensions of the `triangle`, and indeed the output of the test is a `triangle` itself"
   ]
  },
  {
   "cell_type": "markdown",
   "metadata": {},
   "source": [
    "### Estimator Basics"
   ]
  },
  {
   "cell_type": "markdown",
   "metadata": {},
   "source": [
    "All development methods follow the `sklearn` estimator API.  These estimators have a few properties that are worth getting used to.\n",
    "\n",
    "You instiantiate the estimator with your choice of assumptions.  In the case where you don't opt for any assumptions, defaults are chosen for you."
   ]
  },
  {
   "cell_type": "code",
   "execution_count": 11,
   "metadata": {},
   "outputs": [
    {
     "data": {
      "text/plain": [
       "Development(average='volume', drop=None, drop_high=None, drop_low=None,\n",
       "            drop_valuation=None, fillna=None, n_periods=-1,\n",
       "            sigma_interpolation='log-linear')"
      ]
     },
     "execution_count": 11,
     "metadata": {},
     "output_type": "execute_result"
    }
   ],
   "source": [
    "cl.Development()"
   ]
  },
  {
   "cell_type": "markdown",
   "metadata": {},
   "source": [
    "At this point, we've chosen an estimator and assumptions (even if default) but we have not shown our estimator a `Triangle`.  At this point it is merely instructions on how to fit development patterns, but no patterns exist as of yet.\n",
    "\n",
    "All estimators have a `fit` method and you can pass a triangle to your estimator.  Let's `fit` a `Triangle` in a `Development` estimator.  Let's also assign the estimator to a variable so we can reference attributes about it."
   ]
  },
  {
   "cell_type": "code",
   "execution_count": 12,
   "metadata": {},
   "outputs": [
    {
     "data": {
      "text/html": [
       "<table border=\"1\" class=\"dataframe\">\n",
       "  <thead>\n",
       "    <tr style=\"text-align: right;\">\n",
       "      <th></th>\n",
       "      <th>12</th>\n",
       "      <th>24</th>\n",
       "      <th>36</th>\n",
       "      <th>48</th>\n",
       "      <th>60</th>\n",
       "      <th>72</th>\n",
       "      <th>84</th>\n",
       "      <th>96</th>\n",
       "      <th>108</th>\n",
       "      <th>120</th>\n",
       "    </tr>\n",
       "  </thead>\n",
       "  <tbody>\n",
       "    <tr>\n",
       "      <th>2001</th>\n",
       "      <td>357,848</td>\n",
       "      <td>1,124,788</td>\n",
       "      <td>1,735,330</td>\n",
       "      <td>2,218,270</td>\n",
       "      <td>2,745,596</td>\n",
       "      <td>3,319,994</td>\n",
       "      <td>3,466,336</td>\n",
       "      <td>3,606,286</td>\n",
       "      <td>3,833,515</td>\n",
       "      <td>3,901,463</td>\n",
       "    </tr>\n",
       "    <tr>\n",
       "      <th>2002</th>\n",
       "      <td>352,118</td>\n",
       "      <td>1,236,139</td>\n",
       "      <td>2,170,033</td>\n",
       "      <td>3,353,322</td>\n",
       "      <td>3,799,067</td>\n",
       "      <td>4,120,063</td>\n",
       "      <td>4,647,867</td>\n",
       "      <td>4,914,039</td>\n",
       "      <td>5,339,085</td>\n",
       "      <td></td>\n",
       "    </tr>\n",
       "    <tr>\n",
       "      <th>2003</th>\n",
       "      <td>290,507</td>\n",
       "      <td>1,292,306</td>\n",
       "      <td>2,218,525</td>\n",
       "      <td>3,235,179</td>\n",
       "      <td>3,985,995</td>\n",
       "      <td>4,132,918</td>\n",
       "      <td>4,628,910</td>\n",
       "      <td>4,909,315</td>\n",
       "      <td></td>\n",
       "      <td></td>\n",
       "    </tr>\n",
       "    <tr>\n",
       "      <th>2004</th>\n",
       "      <td>310,608</td>\n",
       "      <td>1,418,858</td>\n",
       "      <td>2,195,047</td>\n",
       "      <td>3,757,447</td>\n",
       "      <td>4,029,929</td>\n",
       "      <td>4,381,982</td>\n",
       "      <td>4,588,268</td>\n",
       "      <td></td>\n",
       "      <td></td>\n",
       "      <td></td>\n",
       "    </tr>\n",
       "    <tr>\n",
       "      <th>2005</th>\n",
       "      <td>443,160</td>\n",
       "      <td>1,136,350</td>\n",
       "      <td>2,128,333</td>\n",
       "      <td>2,897,821</td>\n",
       "      <td>3,402,672</td>\n",
       "      <td>3,873,311</td>\n",
       "      <td></td>\n",
       "      <td></td>\n",
       "      <td></td>\n",
       "      <td></td>\n",
       "    </tr>\n",
       "    <tr>\n",
       "      <th>2006</th>\n",
       "      <td>396,132</td>\n",
       "      <td>1,333,217</td>\n",
       "      <td>2,180,715</td>\n",
       "      <td>2,985,752</td>\n",
       "      <td>3,691,712</td>\n",
       "      <td></td>\n",
       "      <td></td>\n",
       "      <td></td>\n",
       "      <td></td>\n",
       "      <td></td>\n",
       "    </tr>\n",
       "    <tr>\n",
       "      <th>2007</th>\n",
       "      <td>440,832</td>\n",
       "      <td>1,288,463</td>\n",
       "      <td>2,419,861</td>\n",
       "      <td>3,483,130</td>\n",
       "      <td></td>\n",
       "      <td></td>\n",
       "      <td></td>\n",
       "      <td></td>\n",
       "      <td></td>\n",
       "      <td></td>\n",
       "    </tr>\n",
       "    <tr>\n",
       "      <th>2008</th>\n",
       "      <td>359,480</td>\n",
       "      <td>1,421,128</td>\n",
       "      <td>2,864,498</td>\n",
       "      <td></td>\n",
       "      <td></td>\n",
       "      <td></td>\n",
       "      <td></td>\n",
       "      <td></td>\n",
       "      <td></td>\n",
       "      <td></td>\n",
       "    </tr>\n",
       "    <tr>\n",
       "      <th>2009</th>\n",
       "      <td>376,686</td>\n",
       "      <td>1,363,294</td>\n",
       "      <td></td>\n",
       "      <td></td>\n",
       "      <td></td>\n",
       "      <td></td>\n",
       "      <td></td>\n",
       "      <td></td>\n",
       "      <td></td>\n",
       "      <td></td>\n",
       "    </tr>\n",
       "    <tr>\n",
       "      <th>2010</th>\n",
       "      <td>344,014</td>\n",
       "      <td></td>\n",
       "      <td></td>\n",
       "      <td></td>\n",
       "      <td></td>\n",
       "      <td></td>\n",
       "      <td></td>\n",
       "      <td></td>\n",
       "      <td></td>\n",
       "      <td></td>\n",
       "    </tr>\n",
       "  </tbody>\n",
       "</table>"
      ],
      "text/plain": [
       "           12         24         36         48         60         72         84         96         108        120\n",
       "2001  357848.0  1124788.0  1735330.0  2218270.0  2745596.0  3319994.0  3466336.0  3606286.0  3833515.0  3901463.0\n",
       "2002  352118.0  1236139.0  2170033.0  3353322.0  3799067.0  4120063.0  4647867.0  4914039.0  5339085.0        NaN\n",
       "2003  290507.0  1292306.0  2218525.0  3235179.0  3985995.0  4132918.0  4628910.0  4909315.0        NaN        NaN\n",
       "2004  310608.0  1418858.0  2195047.0  3757447.0  4029929.0  4381982.0  4588268.0        NaN        NaN        NaN\n",
       "2005  443160.0  1136350.0  2128333.0  2897821.0  3402672.0  3873311.0        NaN        NaN        NaN        NaN\n",
       "2006  396132.0  1333217.0  2180715.0  2985752.0  3691712.0        NaN        NaN        NaN        NaN        NaN\n",
       "2007  440832.0  1288463.0  2419861.0  3483130.0        NaN        NaN        NaN        NaN        NaN        NaN\n",
       "2008  359480.0  1421128.0  2864498.0        NaN        NaN        NaN        NaN        NaN        NaN        NaN\n",
       "2009  376686.0  1363294.0        NaN        NaN        NaN        NaN        NaN        NaN        NaN        NaN\n",
       "2010  344014.0        NaN        NaN        NaN        NaN        NaN        NaN        NaN        NaN        NaN"
      ]
     },
     "execution_count": 12,
     "metadata": {},
     "output_type": "execute_result"
    }
   ],
   "source": [
    "genins = cl.load_sample('genins')\n",
    "genins"
   ]
  },
  {
   "cell_type": "code",
   "execution_count": 13,
   "metadata": {},
   "outputs": [],
   "source": [
    "dev = cl.Development().fit(genins)"
   ]
  },
  {
   "cell_type": "markdown",
   "metadata": {},
   "source": [
    "Now that we have `fit` a `Development` estimator, it has many additional properties that didn't exist before fitting.  For example, \n",
    "we ca view the `ldf_`"
   ]
  },
  {
   "cell_type": "code",
   "execution_count": 15,
   "metadata": {},
   "outputs": [
    {
     "data": {
      "text/html": [
       "<table border=\"1\" class=\"dataframe\">\n",
       "  <thead>\n",
       "    <tr style=\"text-align: right;\">\n",
       "      <th></th>\n",
       "      <th>12-24</th>\n",
       "      <th>24-36</th>\n",
       "      <th>36-48</th>\n",
       "      <th>48-60</th>\n",
       "      <th>60-72</th>\n",
       "      <th>72-84</th>\n",
       "      <th>84-96</th>\n",
       "      <th>96-108</th>\n",
       "      <th>108-120</th>\n",
       "    </tr>\n",
       "  </thead>\n",
       "  <tbody>\n",
       "    <tr>\n",
       "      <th>(All)</th>\n",
       "      <td>3.4906</td>\n",
       "      <td>1.7473</td>\n",
       "      <td>1.4574</td>\n",
       "      <td>1.1739</td>\n",
       "      <td>1.1038</td>\n",
       "      <td>1.0863</td>\n",
       "      <td>1.0539</td>\n",
       "      <td>1.0766</td>\n",
       "      <td>1.0177</td>\n",
       "    </tr>\n",
       "  </tbody>\n",
       "</table>"
      ],
      "text/plain": [
       "          12-24     24-36     36-48     48-60     60-72     72-84     84-96    96-108   108-120\n",
       "(All)  3.490607  1.747333  1.457413  1.173852  1.103824  1.086269  1.053874  1.076555  1.017725"
      ]
     },
     "execution_count": 15,
     "metadata": {},
     "output_type": "execute_result"
    }
   ],
   "source": [
    "dev.ldf_"
   ]
  },
  {
   "cell_type": "markdown",
   "metadata": {},
   "source": [
    "We can view the `cdf_`"
   ]
  },
  {
   "cell_type": "code",
   "execution_count": 16,
   "metadata": {},
   "outputs": [
    {
     "data": {
      "text/html": [
       "<table border=\"1\" class=\"dataframe\">\n",
       "  <thead>\n",
       "    <tr style=\"text-align: right;\">\n",
       "      <th></th>\n",
       "      <th>12-Ult</th>\n",
       "      <th>24-Ult</th>\n",
       "      <th>36-Ult</th>\n",
       "      <th>48-Ult</th>\n",
       "      <th>60-Ult</th>\n",
       "      <th>72-Ult</th>\n",
       "      <th>84-Ult</th>\n",
       "      <th>96-Ult</th>\n",
       "      <th>108-Ult</th>\n",
       "    </tr>\n",
       "  </thead>\n",
       "  <tbody>\n",
       "    <tr>\n",
       "      <th>(All)</th>\n",
       "      <td>14.4466</td>\n",
       "      <td>4.1387</td>\n",
       "      <td>2.3686</td>\n",
       "      <td>1.6252</td>\n",
       "      <td>1.3845</td>\n",
       "      <td>1.2543</td>\n",
       "      <td>1.1547</td>\n",
       "      <td>1.0956</td>\n",
       "      <td>1.0177</td>\n",
       "    </tr>\n",
       "  </tbody>\n",
       "</table>"
      ],
      "text/plain": [
       "          12-Ult    24-Ult    36-Ult    48-Ult    60-Ult    72-Ult    84-Ult    96-Ult   108-Ult\n",
       "(All)  14.446577  4.138701  2.368582  1.625196  1.384499  1.254276  1.154664  1.095637  1.017725"
      ]
     },
     "execution_count": 16,
     "metadata": {},
     "output_type": "execute_result"
    }
   ],
   "source": [
    "dev.cdf_"
   ]
  },
  {
   "cell_type": "markdown",
   "metadata": {},
   "source": [
    "Notice these extra attributes have a trailing underscore_.  This is `sklearn` API convention and it is used to quickly distinguish between attributes that are assumptions (i.e. that exist pre-fit), and those that are estimated from the data (only exist post-fit) "
   ]
  },
  {
   "cell_type": "code",
   "execution_count": 17,
   "metadata": {},
   "outputs": [
    {
     "name": "stdout",
     "output_type": "stream",
     "text": [
      "Assumption parameter (no underscore): volume\n",
      "Estimated parameter (underscore):\n",
      "           12-24     24-36     36-48     48-60     60-72     72-84     84-96    96-108   108-120\n",
      "(All)  3.490607  1.747333  1.457413  1.173852  1.103824  1.086269  1.053874  1.076555  1.017725\n"
     ]
    }
   ],
   "source": [
    "print('Assumption parameter (no underscore):', dev.average)\n",
    "print('Estimated parameter (underscore):\\n',   dev.ldf_)"
   ]
  },
  {
   "cell_type": "markdown",
   "metadata": {},
   "source": [
    "### Development Averaging"
   ]
  },
  {
   "cell_type": "markdown",
   "metadata": {},
   "source": [
    "Now that we have a grounding in triangle manipulation and the basics of estimators, we can start getting more creative with customizing our `Development` factors.\n",
    "\n",
    "The basic `Development` estimator uses a weighted regression through the origin for estimating parameters.  Mack showed that using weighted regressions allows for:\n",
    "1. `volume` weighted average development patterns<br>\n",
    "2. `simple` average development factors<br>\n",
    "3. OLS `regression` estimate of development factor where the regression equation is Y = mX + 0<br>\n",
    "\n",
    "While he posited this framework to suggest the `MackChainladder` stochastic method, it is an elegant form even for deterministic development pattern selection."
   ]
  },
  {
   "cell_type": "code",
   "execution_count": 18,
   "metadata": {},
   "outputs": [
    {
     "data": {
      "text/html": [
       "<table border=\"1\" class=\"dataframe\">\n",
       "  <thead>\n",
       "    <tr style=\"text-align: right;\">\n",
       "      <th></th>\n",
       "      <th>12-24</th>\n",
       "      <th>24-36</th>\n",
       "      <th>36-48</th>\n",
       "      <th>48-60</th>\n",
       "      <th>60-72</th>\n",
       "      <th>72-84</th>\n",
       "      <th>84-96</th>\n",
       "      <th>96-108</th>\n",
       "      <th>108-120</th>\n",
       "    </tr>\n",
       "  </thead>\n",
       "  <tbody>\n",
       "    <tr>\n",
       "      <th>(All)</th>\n",
       "      <td>3.4906</td>\n",
       "      <td>1.7473</td>\n",
       "      <td>1.4574</td>\n",
       "      <td>1.1739</td>\n",
       "      <td>1.1038</td>\n",
       "      <td>1.0863</td>\n",
       "      <td>1.0539</td>\n",
       "      <td>1.0766</td>\n",
       "      <td>1.0177</td>\n",
       "    </tr>\n",
       "  </tbody>\n",
       "</table>"
      ],
      "text/plain": [
       "          12-24     24-36     36-48     48-60     60-72     72-84     84-96    96-108   108-120\n",
       "(All)  3.490607  1.747333  1.457413  1.173852  1.103824  1.086269  1.053874  1.076555  1.017725"
      ]
     },
     "execution_count": 18,
     "metadata": {},
     "output_type": "execute_result"
    }
   ],
   "source": [
    "vol = cl.Development(average='volume').fit(genins).ldf_\n",
    "vol"
   ]
  },
  {
   "cell_type": "code",
   "execution_count": 19,
   "metadata": {},
   "outputs": [
    {
     "data": {
      "text/html": [
       "<table border=\"1\" class=\"dataframe\">\n",
       "  <thead>\n",
       "    <tr style=\"text-align: right;\">\n",
       "      <th></th>\n",
       "      <th>12-24</th>\n",
       "      <th>24-36</th>\n",
       "      <th>36-48</th>\n",
       "      <th>48-60</th>\n",
       "      <th>60-72</th>\n",
       "      <th>72-84</th>\n",
       "      <th>84-96</th>\n",
       "      <th>96-108</th>\n",
       "      <th>108-120</th>\n",
       "    </tr>\n",
       "  </thead>\n",
       "  <tbody>\n",
       "    <tr>\n",
       "      <th>(All)</th>\n",
       "      <td>3.5661</td>\n",
       "      <td>1.7456</td>\n",
       "      <td>1.4520</td>\n",
       "      <td>1.1810</td>\n",
       "      <td>1.1112</td>\n",
       "      <td>1.0848</td>\n",
       "      <td>1.0527</td>\n",
       "      <td>1.0748</td>\n",
       "      <td>1.0177</td>\n",
       "    </tr>\n",
       "  </tbody>\n",
       "</table>"
      ],
      "text/plain": [
       "          12-24     24-36     36-48     48-60     60-72     72-84     84-96    96-108   108-120\n",
       "(All)  3.566143  1.745557  1.451961  1.180984  1.111247  1.084818  1.052739  1.074753  1.017725"
      ]
     },
     "execution_count": 19,
     "metadata": {},
     "output_type": "execute_result"
    }
   ],
   "source": [
    "sim = cl.Development(average='simple').fit(genins).ldf_\n",
    "sim"
   ]
  },
  {
   "cell_type": "markdown",
   "metadata": {},
   "source": [
    "In most cases, estimator attributes are `Triangle`s themselves and can be manipulated with just like raw triangles."
   ]
  },
  {
   "cell_type": "code",
   "execution_count": 20,
   "metadata": {},
   "outputs": [
    {
     "name": "stdout",
     "output_type": "stream",
     "text": [
      "LDF Type:  <class 'chainladder.core.triangle.Triangle'>\n",
      "Difference between volume and simple average:\n"
     ]
    },
    {
     "data": {
      "text/html": [
       "<table border=\"1\" class=\"dataframe\">\n",
       "  <thead>\n",
       "    <tr style=\"text-align: right;\">\n",
       "      <th></th>\n",
       "      <th>12-24</th>\n",
       "      <th>24-36</th>\n",
       "      <th>36-48</th>\n",
       "      <th>48-60</th>\n",
       "      <th>60-72</th>\n",
       "      <th>72-84</th>\n",
       "      <th>84-96</th>\n",
       "      <th>96-108</th>\n",
       "      <th>108-120</th>\n",
       "    </tr>\n",
       "  </thead>\n",
       "  <tbody>\n",
       "    <tr>\n",
       "      <th>(All)</th>\n",
       "      <td>-0.0755</td>\n",
       "      <td>0.0018</td>\n",
       "      <td>0.0055</td>\n",
       "      <td>-0.0071</td>\n",
       "      <td>-0.0074</td>\n",
       "      <td>0.0015</td>\n",
       "      <td>0.0011</td>\n",
       "      <td>0.0018</td>\n",
       "      <td></td>\n",
       "    </tr>\n",
       "  </tbody>\n",
       "</table>"
      ],
      "text/plain": [
       "          12-24     24-36     36-48     48-60     60-72     72-84     84-96    96-108  108-120\n",
       "(All) -0.075536  0.001776  0.005452 -0.007132 -0.007423  0.001452  0.001135  0.001802      NaN"
      ]
     },
     "execution_count": 20,
     "metadata": {},
     "output_type": "execute_result"
    }
   ],
   "source": [
    "print('LDF Type: ', type(vol))\n",
    "print('Difference between volume and simple average:')\n",
    "vol-sim"
   ]
  },
  {
   "cell_type": "markdown",
   "metadata": {},
   "source": [
    "Choosing how you average your LDFs can be done independently for each age-to-age period.  For example, we can use `volume` averaging on the first pattern, `simple` the second, `regression` the third, and then repeat the cycle as follows:"
   ]
  },
  {
   "cell_type": "code",
   "execution_count": 21,
   "metadata": {},
   "outputs": [
    {
     "data": {
      "text/html": [
       "<table border=\"1\" class=\"dataframe\">\n",
       "  <thead>\n",
       "    <tr style=\"text-align: right;\">\n",
       "      <th></th>\n",
       "      <th>12-24</th>\n",
       "      <th>24-36</th>\n",
       "      <th>36-48</th>\n",
       "      <th>48-60</th>\n",
       "      <th>60-72</th>\n",
       "      <th>72-84</th>\n",
       "      <th>84-96</th>\n",
       "      <th>96-108</th>\n",
       "      <th>108-120</th>\n",
       "    </tr>\n",
       "  </thead>\n",
       "  <tbody>\n",
       "    <tr>\n",
       "      <th>(All)</th>\n",
       "      <td>3.4906</td>\n",
       "      <td>1.7456</td>\n",
       "      <td>1.4619</td>\n",
       "      <td>1.1739</td>\n",
       "      <td>1.1112</td>\n",
       "      <td>1.0873</td>\n",
       "      <td>1.0539</td>\n",
       "      <td>1.0748</td>\n",
       "      <td>1.0177</td>\n",
       "    </tr>\n",
       "  </tbody>\n",
       "</table>"
      ],
      "text/plain": [
       "          12-24     24-36     36-48     48-60     60-72     72-84     84-96    96-108   108-120\n",
       "(All)  3.490607  1.745557  1.461852  1.173852  1.111247  1.087341  1.053874  1.074753  1.017725"
      ]
     },
     "execution_count": 21,
     "metadata": {},
     "output_type": "execute_result"
    }
   ],
   "source": [
    "cl.Development(average=['volume', 'simple', 'regression']*3).fit(genins).ldf_"
   ]
  },
  {
   "cell_type": "markdown",
   "metadata": {},
   "source": [
    "Another example, using `volume`-weighting for the first and last three patterns with `simple` averaging in between."
   ]
  },
  {
   "cell_type": "code",
   "execution_count": 22,
   "metadata": {},
   "outputs": [
    {
     "data": {
      "text/html": [
       "<table border=\"1\" class=\"dataframe\">\n",
       "  <thead>\n",
       "    <tr style=\"text-align: right;\">\n",
       "      <th></th>\n",
       "      <th>12-24</th>\n",
       "      <th>24-36</th>\n",
       "      <th>36-48</th>\n",
       "      <th>48-60</th>\n",
       "      <th>60-72</th>\n",
       "      <th>72-84</th>\n",
       "      <th>84-96</th>\n",
       "      <th>96-108</th>\n",
       "      <th>108-120</th>\n",
       "    </tr>\n",
       "  </thead>\n",
       "  <tbody>\n",
       "    <tr>\n",
       "      <th>(All)</th>\n",
       "      <td>3.4906</td>\n",
       "      <td>1.7456</td>\n",
       "      <td>1.4520</td>\n",
       "      <td>1.1810</td>\n",
       "      <td>1.1112</td>\n",
       "      <td>1.0848</td>\n",
       "      <td>1.0539</td>\n",
       "      <td>1.0766</td>\n",
       "      <td>1.0177</td>\n",
       "    </tr>\n",
       "  </tbody>\n",
       "</table>"
      ],
      "text/plain": [
       "          12-24     24-36     36-48     48-60     60-72     72-84     84-96    96-108   108-120\n",
       "(All)  3.490607  1.745557  1.451961  1.180984  1.111247  1.084818  1.053874  1.076555  1.017725"
      ]
     },
     "execution_count": 22,
     "metadata": {},
     "output_type": "execute_result"
    }
   ],
   "source": [
    "cl.Development(average=['volume']+['simple']*5+['volume']*3).fit(genins).ldf_"
   ]
  },
  {
   "cell_type": "markdown",
   "metadata": {},
   "source": [
    "### Averaging Period"
   ]
  },
  {
   "cell_type": "markdown",
   "metadata": {},
   "source": [
    "`Development` comes with an `n_periods` parameter that allows you to select the latest `n` valuation periods for fitting your development patterns.  `n_periods=-1` is used to indicate the usage of all available periods."
   ]
  },
  {
   "cell_type": "code",
   "execution_count": 23,
   "metadata": {},
   "outputs": [
    {
     "data": {
      "text/html": [
       "<table border=\"1\" class=\"dataframe\">\n",
       "  <thead>\n",
       "    <tr style=\"text-align: right;\">\n",
       "      <th></th>\n",
       "      <th>12-24</th>\n",
       "      <th>24-36</th>\n",
       "      <th>36-48</th>\n",
       "      <th>48-60</th>\n",
       "      <th>60-72</th>\n",
       "      <th>72-84</th>\n",
       "      <th>84-96</th>\n",
       "      <th>96-108</th>\n",
       "      <th>108-120</th>\n",
       "    </tr>\n",
       "  </thead>\n",
       "  <tbody>\n",
       "    <tr>\n",
       "      <th>(All)</th>\n",
       "      <td>3.4604</td>\n",
       "      <td>1.8465</td>\n",
       "      <td>1.3920</td>\n",
       "      <td>1.1539</td>\n",
       "      <td>1.0849</td>\n",
       "      <td>1.0974</td>\n",
       "      <td>1.0539</td>\n",
       "      <td>1.0766</td>\n",
       "      <td>1.0177</td>\n",
       "    </tr>\n",
       "  </tbody>\n",
       "</table>"
      ],
      "text/plain": [
       "          12-24     24-36     36-48     48-60     60-72     72-84     84-96    96-108   108-120\n",
       "(All)  3.460401  1.846507  1.392009  1.153852  1.084915  1.097355  1.053874  1.076555  1.017725"
      ]
     },
     "execution_count": 23,
     "metadata": {},
     "output_type": "execute_result"
    }
   ],
   "source": [
    "cl.Development(n_periods=3).fit(genins).ldf_"
   ]
  },
  {
   "cell_type": "markdown",
   "metadata": {},
   "source": [
    "The units of `n_periods` follows the `origin_grain` of your triangle."
   ]
  },
  {
   "cell_type": "code",
   "execution_count": 24,
   "metadata": {},
   "outputs": [
    {
     "name": "stdout",
     "output_type": "stream",
     "text": [
      "Using 5Y Avg\n"
     ]
    },
    {
     "data": {
      "text/html": [
       "<table border=\"1\" class=\"dataframe\">\n",
       "  <thead>\n",
       "    <tr style=\"text-align: right;\">\n",
       "      <th></th>\n",
       "      <th>12-24</th>\n",
       "      <th>24-36</th>\n",
       "      <th>36-48</th>\n",
       "      <th>48-60</th>\n",
       "      <th>60-72</th>\n",
       "      <th>72-84</th>\n",
       "      <th>84-96</th>\n",
       "      <th>96-108</th>\n",
       "      <th>108-120</th>\n",
       "    </tr>\n",
       "  </thead>\n",
       "  <tbody>\n",
       "    <tr>\n",
       "      <th>(All)</th>\n",
       "      <td>3.2448</td>\n",
       "      <td>1.7867</td>\n",
       "      <td>1.4682</td>\n",
       "      <td>1.1651</td>\n",
       "      <td>1.1038</td>\n",
       "      <td>1.0863</td>\n",
       "      <td>1.0539</td>\n",
       "      <td>1.0766</td>\n",
       "      <td>1.0177</td>\n",
       "    </tr>\n",
       "  </tbody>\n",
       "</table>"
      ],
      "text/plain": [
       "          12-24     24-36     36-48     48-60     60-72     72-84     84-96    96-108   108-120\n",
       "(All)  3.244797  1.786666  1.468194  1.165122  1.103824  1.086269  1.053874  1.076555  1.017725"
      ]
     },
     "execution_count": 24,
     "metadata": {},
     "output_type": "execute_result"
    }
   ],
   "source": [
    "dev = cl.Development(n_periods=5).fit(genins)\n",
    "print('Using ' + str(dev.n_periods) + str(genins.origin_grain) + ' Avg')\n",
    "dev.ldf_"
   ]
  },
  {
   "cell_type": "markdown",
   "metadata": {},
   "source": [
    "Much like `average`, `n_periods` can also be set for each age-to-age individually."
   ]
  },
  {
   "cell_type": "code",
   "execution_count": 25,
   "metadata": {},
   "outputs": [
    {
     "data": {
      "text/html": [
       "<table border=\"1\" class=\"dataframe\">\n",
       "  <thead>\n",
       "    <tr style=\"text-align: right;\">\n",
       "      <th></th>\n",
       "      <th>12-24</th>\n",
       "      <th>24-36</th>\n",
       "      <th>36-48</th>\n",
       "      <th>48-60</th>\n",
       "      <th>60-72</th>\n",
       "      <th>72-84</th>\n",
       "      <th>84-96</th>\n",
       "      <th>96-108</th>\n",
       "      <th>108-120</th>\n",
       "    </tr>\n",
       "  </thead>\n",
       "  <tbody>\n",
       "    <tr>\n",
       "      <th>(All)</th>\n",
       "      <td>3.5325</td>\n",
       "      <td>1.9502</td>\n",
       "      <td>1.4808</td>\n",
       "      <td>1.1651</td>\n",
       "      <td>1.1038</td>\n",
       "      <td>1.0825</td>\n",
       "      <td>1.0539</td>\n",
       "      <td>1.0766</td>\n",
       "      <td>1.0177</td>\n",
       "    </tr>\n",
       "  </tbody>\n",
       "</table>"
      ],
      "text/plain": [
       "          12-24     24-36     36-48     48-60     60-72     72-84     84-96    96-108   108-120\n",
       "(All)  3.532471  1.950242  1.480761  1.165122  1.103824  1.082476  1.053874  1.076555  1.017725"
      ]
     },
     "execution_count": 25,
     "metadata": {},
     "output_type": "execute_result"
    }
   ],
   "source": [
    "cl.Development(n_periods=[8,2,6,5,-1,2,-1,-1,5]).fit(genins).ldf_"
   ]
  },
  {
   "cell_type": "markdown",
   "metadata": {},
   "source": [
    "Note that if you want more `n_periods` than are available for any particular age-to-age period, all available periods will be used instead."
   ]
  },
  {
   "cell_type": "code",
   "execution_count": 26,
   "metadata": {},
   "outputs": [
    {
     "data": {
      "text/plain": [
       "True"
      ]
     },
     "execution_count": 26,
     "metadata": {},
     "output_type": "execute_result"
    }
   ],
   "source": [
    "cl.Development(n_periods=[1,2,3,4,5,6,7,8,9]).fit(genins).ldf_ == \\\n",
    "cl.Development(n_periods=[1,2,3,4,5,4,3,2,1]).fit(genins).ldf_"
   ]
  },
  {
   "cell_type": "markdown",
   "metadata": {},
   "source": [
    "### Dropping problematic link-ratios\n",
    "\n",
    "Even with `n_periods`, there are situations where you might want to be more surgical in your picks.  For example, you could have a valuation period with bad data and wish to omit the entire diagonal from your averaging."
   ]
  },
  {
   "cell_type": "code",
   "execution_count": 27,
   "metadata": {},
   "outputs": [
    {
     "data": {
      "text/html": [
       "<table border=\"1\" class=\"dataframe\">\n",
       "  <thead>\n",
       "    <tr style=\"text-align: right;\">\n",
       "      <th></th>\n",
       "      <th>12-24</th>\n",
       "      <th>24-36</th>\n",
       "      <th>36-48</th>\n",
       "      <th>48-60</th>\n",
       "      <th>60-72</th>\n",
       "      <th>72-84</th>\n",
       "      <th>84-96</th>\n",
       "      <th>96-108</th>\n",
       "      <th>108-120</th>\n",
       "    </tr>\n",
       "  </thead>\n",
       "  <tbody>\n",
       "    <tr>\n",
       "      <th>(All)</th>\n",
       "      <td>3.3797</td>\n",
       "      <td>1.7517</td>\n",
       "      <td>1.4426</td>\n",
       "      <td>1.1651</td>\n",
       "      <td>1.1038</td>\n",
       "      <td>1.0863</td>\n",
       "      <td>1.0539</td>\n",
       "      <td>1.0766</td>\n",
       "      <td>1.0177</td>\n",
       "    </tr>\n",
       "  </tbody>\n",
       "</table>"
      ],
      "text/plain": [
       "          12-24     24-36     36-48     48-60     60-72     72-84     84-96    96-108   108-120\n",
       "(All)  3.379677  1.751749  1.442605  1.165122  1.103824  1.086269  1.053874  1.076555  1.017725"
      ]
     },
     "execution_count": 27,
     "metadata": {},
     "output_type": "execute_result"
    }
   ],
   "source": [
    "cl.Development(drop_valuation='2004').fit(genins).ldf_"
   ]
  },
  {
   "cell_type": "markdown",
   "metadata": {},
   "source": [
    "Maybe you want do do olympic averaging (i.e. exluding high and low from each period)"
   ]
  },
  {
   "cell_type": "code",
   "execution_count": 28,
   "metadata": {},
   "outputs": [
    {
     "name": "stderr",
     "output_type": "stream",
     "text": [
      "/Users/holmen1/opt/anaconda3/lib/python3.7/site-packages/chainladder/development/base.py:178: UserWarning: drop_high and drop_low cannot be computed when less than three LDFs are present. Ignoring exclusions in some cases.\n",
      "  \"drop_high and drop_low cannot be computed \"\n"
     ]
    },
    {
     "data": {
      "text/html": [
       "<table border=\"1\" class=\"dataframe\">\n",
       "  <thead>\n",
       "    <tr style=\"text-align: right;\">\n",
       "      <th></th>\n",
       "      <th>12-24</th>\n",
       "      <th>24-36</th>\n",
       "      <th>36-48</th>\n",
       "      <th>48-60</th>\n",
       "      <th>60-72</th>\n",
       "      <th>72-84</th>\n",
       "      <th>84-96</th>\n",
       "      <th>96-108</th>\n",
       "      <th>108-120</th>\n",
       "    </tr>\n",
       "  </thead>\n",
       "  <tbody>\n",
       "    <tr>\n",
       "      <th>(All)</th>\n",
       "      <td>3.5201</td>\n",
       "      <td>1.7277</td>\n",
       "      <td>1.4351</td>\n",
       "      <td>1.1930</td>\n",
       "      <td>1.1018</td>\n",
       "      <td>1.0825</td>\n",
       "      <td>1.0573</td>\n",
       "      <td>1.0766</td>\n",
       "      <td>1.0177</td>\n",
       "    </tr>\n",
       "  </tbody>\n",
       "</table>"
      ],
      "text/plain": [
       "          12-24     24-36     36-48     48-60     60-72     72-84     84-96    96-108   108-120\n",
       "(All)  3.520098  1.727701  1.435147  1.193021  1.101827  1.082476  1.057268  1.076555  1.017725"
      ]
     },
     "execution_count": 28,
     "metadata": {},
     "output_type": "execute_result"
    }
   ],
   "source": [
    "cl.Development(drop_high=True, drop_low=True).fit(genins).ldf_"
   ]
  },
  {
   "cell_type": "markdown",
   "metadata": {},
   "source": [
    "Or maybe there is just a single outlier link-ratio that you don't think is indicative of future development.  For these, you can specify the intersection of the origin and development age of the **denominator** of the link-ratio to `drop`."
   ]
  },
  {
   "cell_type": "code",
   "execution_count": 29,
   "metadata": {},
   "outputs": [
    {
     "data": {
      "text/html": [
       "<table border=\"1\" class=\"dataframe\">\n",
       "  <thead>\n",
       "    <tr style=\"text-align: right;\">\n",
       "      <th></th>\n",
       "      <th>12-24</th>\n",
       "      <th>24-36</th>\n",
       "      <th>36-48</th>\n",
       "      <th>48-60</th>\n",
       "      <th>60-72</th>\n",
       "      <th>72-84</th>\n",
       "      <th>84-96</th>\n",
       "      <th>96-108</th>\n",
       "      <th>108-120</th>\n",
       "    </tr>\n",
       "  </thead>\n",
       "  <tbody>\n",
       "    <tr>\n",
       "      <th>(All)</th>\n",
       "      <td>3.3797</td>\n",
       "      <td>1.7473</td>\n",
       "      <td>1.4574</td>\n",
       "      <td>1.1739</td>\n",
       "      <td>1.1038</td>\n",
       "      <td>1.0863</td>\n",
       "      <td>1.0539</td>\n",
       "      <td>1.0766</td>\n",
       "      <td>1.0177</td>\n",
       "    </tr>\n",
       "  </tbody>\n",
       "</table>"
      ],
      "text/plain": [
       "          12-24     24-36     36-48     48-60     60-72     72-84     84-96    96-108   108-120\n",
       "(All)  3.379677  1.747333  1.457413  1.173852  1.103824  1.086269  1.053874  1.076555  1.017725"
      ]
     },
     "execution_count": 29,
     "metadata": {},
     "output_type": "execute_result"
    }
   ],
   "source": [
    "cl.Development(drop=('2004', 12)).fit(genins).ldf_"
   ]
  },
  {
   "cell_type": "markdown",
   "metadata": {},
   "source": [
    "If there are more than one troublesome outliers, you cal also pass a list to the `drop` argument."
   ]
  },
  {
   "cell_type": "code",
   "execution_count": 30,
   "metadata": {},
   "outputs": [
    {
     "data": {
      "text/html": [
       "<table border=\"1\" class=\"dataframe\">\n",
       "  <thead>\n",
       "    <tr style=\"text-align: right;\">\n",
       "      <th></th>\n",
       "      <th>12-24</th>\n",
       "      <th>24-36</th>\n",
       "      <th>36-48</th>\n",
       "      <th>48-60</th>\n",
       "      <th>60-72</th>\n",
       "      <th>72-84</th>\n",
       "      <th>84-96</th>\n",
       "      <th>96-108</th>\n",
       "      <th>108-120</th>\n",
       "    </tr>\n",
       "  </thead>\n",
       "  <tbody>\n",
       "    <tr>\n",
       "      <th>(All)</th>\n",
       "      <td>3.3797</td>\n",
       "      <td>1.7517</td>\n",
       "      <td>1.4574</td>\n",
       "      <td>1.1739</td>\n",
       "      <td>1.1038</td>\n",
       "      <td>1.0863</td>\n",
       "      <td>1.0539</td>\n",
       "      <td>1.0766</td>\n",
       "      <td>1.0177</td>\n",
       "    </tr>\n",
       "  </tbody>\n",
       "</table>"
      ],
      "text/plain": [
       "          12-24     24-36     36-48     48-60     60-72     72-84     84-96    96-108   108-120\n",
       "(All)  3.379677  1.751749  1.457413  1.173852  1.103824  1.086269  1.053874  1.076555  1.017725"
      ]
     },
     "execution_count": 30,
     "metadata": {},
     "output_type": "execute_result"
    }
   ],
   "source": [
    "cl.Development(drop=[('2004', 12), ('2003', 24)]).fit(genins).ldf_"
   ]
  },
  {
   "cell_type": "markdown",
   "metadata": {},
   "source": [
    "### Transformers\n",
    "In `sklearn` parlance, there are two types of estimators.  They are Transformers (which `Development` is) and Predictors.  The `Development` object is a means to creating development patterns, but itself is not an reserving model.  Transformers come with the `tranform` and `fit_transform` method.  These will return a `Triangle` object but augment it with additional information for use in a subsequent IBNR model."
   ]
  },
  {
   "cell_type": "code",
   "execution_count": 31,
   "metadata": {},
   "outputs": [
    {
     "data": {
      "text/html": [
       "<table border=\"1\" class=\"dataframe\">\n",
       "  <thead>\n",
       "    <tr style=\"text-align: right;\">\n",
       "      <th></th>\n",
       "      <th>12</th>\n",
       "      <th>24</th>\n",
       "      <th>36</th>\n",
       "      <th>48</th>\n",
       "      <th>60</th>\n",
       "      <th>72</th>\n",
       "      <th>84</th>\n",
       "      <th>96</th>\n",
       "      <th>108</th>\n",
       "      <th>120</th>\n",
       "    </tr>\n",
       "  </thead>\n",
       "  <tbody>\n",
       "    <tr>\n",
       "      <th>2001</th>\n",
       "      <td>357,848</td>\n",
       "      <td>1,124,788</td>\n",
       "      <td>1,735,330</td>\n",
       "      <td>2,218,270</td>\n",
       "      <td>2,745,596</td>\n",
       "      <td>3,319,994</td>\n",
       "      <td>3,466,336</td>\n",
       "      <td>3,606,286</td>\n",
       "      <td>3,833,515</td>\n",
       "      <td>3,901,463</td>\n",
       "    </tr>\n",
       "    <tr>\n",
       "      <th>2002</th>\n",
       "      <td>352,118</td>\n",
       "      <td>1,236,139</td>\n",
       "      <td>2,170,033</td>\n",
       "      <td>3,353,322</td>\n",
       "      <td>3,799,067</td>\n",
       "      <td>4,120,063</td>\n",
       "      <td>4,647,867</td>\n",
       "      <td>4,914,039</td>\n",
       "      <td>5,339,085</td>\n",
       "      <td></td>\n",
       "    </tr>\n",
       "    <tr>\n",
       "      <th>2003</th>\n",
       "      <td>290,507</td>\n",
       "      <td>1,292,306</td>\n",
       "      <td>2,218,525</td>\n",
       "      <td>3,235,179</td>\n",
       "      <td>3,985,995</td>\n",
       "      <td>4,132,918</td>\n",
       "      <td>4,628,910</td>\n",
       "      <td>4,909,315</td>\n",
       "      <td></td>\n",
       "      <td></td>\n",
       "    </tr>\n",
       "    <tr>\n",
       "      <th>2004</th>\n",
       "      <td>310,608</td>\n",
       "      <td>1,418,858</td>\n",
       "      <td>2,195,047</td>\n",
       "      <td>3,757,447</td>\n",
       "      <td>4,029,929</td>\n",
       "      <td>4,381,982</td>\n",
       "      <td>4,588,268</td>\n",
       "      <td></td>\n",
       "      <td></td>\n",
       "      <td></td>\n",
       "    </tr>\n",
       "    <tr>\n",
       "      <th>2005</th>\n",
       "      <td>443,160</td>\n",
       "      <td>1,136,350</td>\n",
       "      <td>2,128,333</td>\n",
       "      <td>2,897,821</td>\n",
       "      <td>3,402,672</td>\n",
       "      <td>3,873,311</td>\n",
       "      <td></td>\n",
       "      <td></td>\n",
       "      <td></td>\n",
       "      <td></td>\n",
       "    </tr>\n",
       "    <tr>\n",
       "      <th>2006</th>\n",
       "      <td>396,132</td>\n",
       "      <td>1,333,217</td>\n",
       "      <td>2,180,715</td>\n",
       "      <td>2,985,752</td>\n",
       "      <td>3,691,712</td>\n",
       "      <td></td>\n",
       "      <td></td>\n",
       "      <td></td>\n",
       "      <td></td>\n",
       "      <td></td>\n",
       "    </tr>\n",
       "    <tr>\n",
       "      <th>2007</th>\n",
       "      <td>440,832</td>\n",
       "      <td>1,288,463</td>\n",
       "      <td>2,419,861</td>\n",
       "      <td>3,483,130</td>\n",
       "      <td></td>\n",
       "      <td></td>\n",
       "      <td></td>\n",
       "      <td></td>\n",
       "      <td></td>\n",
       "      <td></td>\n",
       "    </tr>\n",
       "    <tr>\n",
       "      <th>2008</th>\n",
       "      <td>359,480</td>\n",
       "      <td>1,421,128</td>\n",
       "      <td>2,864,498</td>\n",
       "      <td></td>\n",
       "      <td></td>\n",
       "      <td></td>\n",
       "      <td></td>\n",
       "      <td></td>\n",
       "      <td></td>\n",
       "      <td></td>\n",
       "    </tr>\n",
       "    <tr>\n",
       "      <th>2009</th>\n",
       "      <td>376,686</td>\n",
       "      <td>1,363,294</td>\n",
       "      <td></td>\n",
       "      <td></td>\n",
       "      <td></td>\n",
       "      <td></td>\n",
       "      <td></td>\n",
       "      <td></td>\n",
       "      <td></td>\n",
       "      <td></td>\n",
       "    </tr>\n",
       "    <tr>\n",
       "      <th>2010</th>\n",
       "      <td>344,014</td>\n",
       "      <td></td>\n",
       "      <td></td>\n",
       "      <td></td>\n",
       "      <td></td>\n",
       "      <td></td>\n",
       "      <td></td>\n",
       "      <td></td>\n",
       "      <td></td>\n",
       "      <td></td>\n",
       "    </tr>\n",
       "  </tbody>\n",
       "</table>"
      ],
      "text/plain": [
       "           12         24         36         48         60         72         84         96         108        120\n",
       "2001  357848.0  1124788.0  1735330.0  2218270.0  2745596.0  3319994.0  3466336.0  3606286.0  3833515.0  3901463.0\n",
       "2002  352118.0  1236139.0  2170033.0  3353322.0  3799067.0  4120063.0  4647867.0  4914039.0  5339085.0        NaN\n",
       "2003  290507.0  1292306.0  2218525.0  3235179.0  3985995.0  4132918.0  4628910.0  4909315.0        NaN        NaN\n",
       "2004  310608.0  1418858.0  2195047.0  3757447.0  4029929.0  4381982.0  4588268.0        NaN        NaN        NaN\n",
       "2005  443160.0  1136350.0  2128333.0  2897821.0  3402672.0  3873311.0        NaN        NaN        NaN        NaN\n",
       "2006  396132.0  1333217.0  2180715.0  2985752.0  3691712.0        NaN        NaN        NaN        NaN        NaN\n",
       "2007  440832.0  1288463.0  2419861.0  3483130.0        NaN        NaN        NaN        NaN        NaN        NaN\n",
       "2008  359480.0  1421128.0  2864498.0        NaN        NaN        NaN        NaN        NaN        NaN        NaN\n",
       "2009  376686.0  1363294.0        NaN        NaN        NaN        NaN        NaN        NaN        NaN        NaN\n",
       "2010  344014.0        NaN        NaN        NaN        NaN        NaN        NaN        NaN        NaN        NaN"
      ]
     },
     "execution_count": 31,
     "metadata": {},
     "output_type": "execute_result"
    }
   ],
   "source": [
    "transformed_triangle = cl.Development(drop_high=[True]*4+[False]*9).fit_transform(genins)\n",
    "transformed_triangle"
   ]
  },
  {
   "cell_type": "markdown",
   "metadata": {},
   "source": [
    "Our transformed triangle behaves as our original `genins` triangle.  However, notice the link_ratios exclude any droppped values you specified."
   ]
  },
  {
   "cell_type": "code",
   "execution_count": 32,
   "metadata": {},
   "outputs": [
    {
     "data": {
      "text/html": [
       "<style  type=\"text/css\" >\n",
       "    #T_a807669e_49b5_11eb_aba7_98460a92372arow0_col0 {\n",
       "            background-color:  #bdc8e1;\n",
       "            color:  #000000;\n",
       "        }    #T_a807669e_49b5_11eb_aba7_98460a92372arow0_col1 {\n",
       "            background-color:  #fff7fb;\n",
       "            color:  #000000;\n",
       "        }    #T_a807669e_49b5_11eb_aba7_98460a92372arow0_col2 {\n",
       "            background-color:  #fff7fb;\n",
       "            color:  #000000;\n",
       "        }    #T_a807669e_49b5_11eb_aba7_98460a92372arow0_col3 {\n",
       "            background-color:  #fff7fb;\n",
       "            color:  #000000;\n",
       "        }    #T_a807669e_49b5_11eb_aba7_98460a92372arow0_col4 {\n",
       "            background-color:  #023858;\n",
       "            color:  #f1f1f1;\n",
       "        }    #T_a807669e_49b5_11eb_aba7_98460a92372arow0_col5 {\n",
       "            background-color:  #fff7fb;\n",
       "            color:  #000000;\n",
       "        }    #T_a807669e_49b5_11eb_aba7_98460a92372arow0_col6 {\n",
       "            background-color:  #fff7fb;\n",
       "            color:  #000000;\n",
       "        }    #T_a807669e_49b5_11eb_aba7_98460a92372arow0_col7 {\n",
       "            background-color:  #fff7fb;\n",
       "            color:  #000000;\n",
       "        }    #T_a807669e_49b5_11eb_aba7_98460a92372arow0_col8 {\n",
       "            background-color:  #fff7fb;\n",
       "            color:  #000000;\n",
       "        }    #T_a807669e_49b5_11eb_aba7_98460a92372arow1_col0 {\n",
       "            background-color:  #73a9cf;\n",
       "            color:  #000000;\n",
       "        }    #T_a807669e_49b5_11eb_aba7_98460a92372arow1_col1 {\n",
       "            background-color:  #328dbf;\n",
       "            color:  #000000;\n",
       "        }    #T_a807669e_49b5_11eb_aba7_98460a92372arow1_col2 {\n",
       "            background-color:  #023858;\n",
       "            color:  #f1f1f1;\n",
       "        }    #T_a807669e_49b5_11eb_aba7_98460a92372arow1_col3 {\n",
       "            background-color:  #a8bedc;\n",
       "            color:  #000000;\n",
       "        }    #T_a807669e_49b5_11eb_aba7_98460a92372arow1_col4 {\n",
       "            background-color:  #c8cde4;\n",
       "            color:  #000000;\n",
       "        }    #T_a807669e_49b5_11eb_aba7_98460a92372arow1_col5 {\n",
       "            background-color:  #023858;\n",
       "            color:  #f1f1f1;\n",
       "        }    #T_a807669e_49b5_11eb_aba7_98460a92372arow1_col6 {\n",
       "            background-color:  #046097;\n",
       "            color:  #f1f1f1;\n",
       "        }    #T_a807669e_49b5_11eb_aba7_98460a92372arow1_col7 {\n",
       "            background-color:  #023858;\n",
       "            color:  #f1f1f1;\n",
       "        }    #T_a807669e_49b5_11eb_aba7_98460a92372arow1_col8 {\n",
       "            background-color:  #fff7fb;\n",
       "            color:  #000000;\n",
       "        }    #T_a807669e_49b5_11eb_aba7_98460a92372arow2_col0 {\n",
       "            background-color:  #023858;\n",
       "            color:  #f1f1f1;\n",
       "        }    #T_a807669e_49b5_11eb_aba7_98460a92372arow2_col1 {\n",
       "            background-color:  #6ba5cd;\n",
       "            color:  #000000;\n",
       "        }    #T_a807669e_49b5_11eb_aba7_98460a92372arow2_col2 {\n",
       "            background-color:  #2383ba;\n",
       "            color:  #000000;\n",
       "        }    #T_a807669e_49b5_11eb_aba7_98460a92372arow2_col3 {\n",
       "            background-color:  #023e62;\n",
       "            color:  #f1f1f1;\n",
       "        }    #T_a807669e_49b5_11eb_aba7_98460a92372arow2_col4 {\n",
       "            background-color:  #fff7fb;\n",
       "            color:  #000000;\n",
       "        }    #T_a807669e_49b5_11eb_aba7_98460a92372arow2_col5 {\n",
       "            background-color:  #045280;\n",
       "            color:  #f1f1f1;\n",
       "        }    #T_a807669e_49b5_11eb_aba7_98460a92372arow2_col6 {\n",
       "            background-color:  #023858;\n",
       "            color:  #f1f1f1;\n",
       "        }    #T_a807669e_49b5_11eb_aba7_98460a92372arow2_col7 {\n",
       "            background-color:  #fff7fb;\n",
       "            color:  #000000;\n",
       "        }    #T_a807669e_49b5_11eb_aba7_98460a92372arow2_col8 {\n",
       "            background-color:  #fff7fb;\n",
       "            color:  #000000;\n",
       "        }    #T_a807669e_49b5_11eb_aba7_98460a92372arow3_col0 {\n",
       "            background-color:  #fff7fb;\n",
       "            color:  #000000;\n",
       "        }    #T_a807669e_49b5_11eb_aba7_98460a92372arow3_col1 {\n",
       "            background-color:  #fdf5fa;\n",
       "            color:  #000000;\n",
       "        }    #T_a807669e_49b5_11eb_aba7_98460a92372arow3_col2 {\n",
       "            background-color:  #fff7fb;\n",
       "            color:  #000000;\n",
       "        }    #T_a807669e_49b5_11eb_aba7_98460a92372arow3_col3 {\n",
       "            background-color:  #fff7fb;\n",
       "            color:  #000000;\n",
       "        }    #T_a807669e_49b5_11eb_aba7_98460a92372arow3_col4 {\n",
       "            background-color:  #c1cae2;\n",
       "            color:  #000000;\n",
       "        }    #T_a807669e_49b5_11eb_aba7_98460a92372arow3_col5 {\n",
       "            background-color:  #faf2f8;\n",
       "            color:  #000000;\n",
       "        }    #T_a807669e_49b5_11eb_aba7_98460a92372arow3_col6 {\n",
       "            background-color:  #fff7fb;\n",
       "            color:  #000000;\n",
       "        }    #T_a807669e_49b5_11eb_aba7_98460a92372arow3_col7 {\n",
       "            background-color:  #fff7fb;\n",
       "            color:  #000000;\n",
       "        }    #T_a807669e_49b5_11eb_aba7_98460a92372arow3_col8 {\n",
       "            background-color:  #fff7fb;\n",
       "            color:  #000000;\n",
       "        }    #T_a807669e_49b5_11eb_aba7_98460a92372arow4_col0 {\n",
       "            background-color:  #fff7fb;\n",
       "            color:  #000000;\n",
       "        }    #T_a807669e_49b5_11eb_aba7_98460a92372arow4_col1 {\n",
       "            background-color:  #023b5d;\n",
       "            color:  #f1f1f1;\n",
       "        }    #T_a807669e_49b5_11eb_aba7_98460a92372arow4_col2 {\n",
       "            background-color:  #bcc7e1;\n",
       "            color:  #000000;\n",
       "        }    #T_a807669e_49b5_11eb_aba7_98460a92372arow4_col3 {\n",
       "            background-color:  #3991c1;\n",
       "            color:  #000000;\n",
       "        }    #T_a807669e_49b5_11eb_aba7_98460a92372arow4_col4 {\n",
       "            background-color:  #4897c4;\n",
       "            color:  #000000;\n",
       "        }    #T_a807669e_49b5_11eb_aba7_98460a92372arow4_col5 {\n",
       "            background-color:  #fff7fb;\n",
       "            color:  #000000;\n",
       "        }    #T_a807669e_49b5_11eb_aba7_98460a92372arow4_col6 {\n",
       "            background-color:  #fff7fb;\n",
       "            color:  #000000;\n",
       "        }    #T_a807669e_49b5_11eb_aba7_98460a92372arow4_col7 {\n",
       "            background-color:  #fff7fb;\n",
       "            color:  #000000;\n",
       "        }    #T_a807669e_49b5_11eb_aba7_98460a92372arow4_col8 {\n",
       "            background-color:  #fff7fb;\n",
       "            color:  #000000;\n",
       "        }    #T_a807669e_49b5_11eb_aba7_98460a92372arow5_col0 {\n",
       "            background-color:  #93b5d6;\n",
       "            color:  #000000;\n",
       "        }    #T_a807669e_49b5_11eb_aba7_98460a92372arow5_col1 {\n",
       "            background-color:  #c8cde4;\n",
       "            color:  #000000;\n",
       "        }    #T_a807669e_49b5_11eb_aba7_98460a92372arow5_col2 {\n",
       "            background-color:  #b1c2de;\n",
       "            color:  #000000;\n",
       "        }    #T_a807669e_49b5_11eb_aba7_98460a92372arow5_col3 {\n",
       "            background-color:  #023858;\n",
       "            color:  #f1f1f1;\n",
       "        }    #T_a807669e_49b5_11eb_aba7_98460a92372arow5_col4 {\n",
       "            background-color:  #fff7fb;\n",
       "            color:  #000000;\n",
       "        }    #T_a807669e_49b5_11eb_aba7_98460a92372arow5_col5 {\n",
       "            background-color:  #fff7fb;\n",
       "            color:  #000000;\n",
       "        }    #T_a807669e_49b5_11eb_aba7_98460a92372arow5_col6 {\n",
       "            background-color:  #fff7fb;\n",
       "            color:  #000000;\n",
       "        }    #T_a807669e_49b5_11eb_aba7_98460a92372arow5_col7 {\n",
       "            background-color:  #fff7fb;\n",
       "            color:  #000000;\n",
       "        }    #T_a807669e_49b5_11eb_aba7_98460a92372arow5_col8 {\n",
       "            background-color:  #fff7fb;\n",
       "            color:  #000000;\n",
       "        }    #T_a807669e_49b5_11eb_aba7_98460a92372arow6_col0 {\n",
       "            background-color:  #dedcec;\n",
       "            color:  #000000;\n",
       "        }    #T_a807669e_49b5_11eb_aba7_98460a92372arow6_col1 {\n",
       "            background-color:  #023858;\n",
       "            color:  #f1f1f1;\n",
       "        }    #T_a807669e_49b5_11eb_aba7_98460a92372arow6_col2 {\n",
       "            background-color:  #4094c3;\n",
       "            color:  #000000;\n",
       "        }    #T_a807669e_49b5_11eb_aba7_98460a92372arow6_col3 {\n",
       "            background-color:  #fff7fb;\n",
       "            color:  #000000;\n",
       "        }    #T_a807669e_49b5_11eb_aba7_98460a92372arow6_col4 {\n",
       "            background-color:  #fff7fb;\n",
       "            color:  #000000;\n",
       "        }    #T_a807669e_49b5_11eb_aba7_98460a92372arow6_col5 {\n",
       "            background-color:  #fff7fb;\n",
       "            color:  #000000;\n",
       "        }    #T_a807669e_49b5_11eb_aba7_98460a92372arow6_col6 {\n",
       "            background-color:  #fff7fb;\n",
       "            color:  #000000;\n",
       "        }    #T_a807669e_49b5_11eb_aba7_98460a92372arow6_col7 {\n",
       "            background-color:  #fff7fb;\n",
       "            color:  #000000;\n",
       "        }    #T_a807669e_49b5_11eb_aba7_98460a92372arow6_col8 {\n",
       "            background-color:  #fff7fb;\n",
       "            color:  #000000;\n",
       "        }    #T_a807669e_49b5_11eb_aba7_98460a92372arow7_col0 {\n",
       "            background-color:  #0a73b2;\n",
       "            color:  #f1f1f1;\n",
       "        }    #T_a807669e_49b5_11eb_aba7_98460a92372arow7_col1 {\n",
       "            background-color:  #fff7fb;\n",
       "            color:  #000000;\n",
       "        }    #T_a807669e_49b5_11eb_aba7_98460a92372arow7_col2 {\n",
       "            background-color:  #fff7fb;\n",
       "            color:  #000000;\n",
       "        }    #T_a807669e_49b5_11eb_aba7_98460a92372arow7_col3 {\n",
       "            background-color:  #fff7fb;\n",
       "            color:  #000000;\n",
       "        }    #T_a807669e_49b5_11eb_aba7_98460a92372arow7_col4 {\n",
       "            background-color:  #fff7fb;\n",
       "            color:  #000000;\n",
       "        }    #T_a807669e_49b5_11eb_aba7_98460a92372arow7_col5 {\n",
       "            background-color:  #fff7fb;\n",
       "            color:  #000000;\n",
       "        }    #T_a807669e_49b5_11eb_aba7_98460a92372arow7_col6 {\n",
       "            background-color:  #fff7fb;\n",
       "            color:  #000000;\n",
       "        }    #T_a807669e_49b5_11eb_aba7_98460a92372arow7_col7 {\n",
       "            background-color:  #fff7fb;\n",
       "            color:  #000000;\n",
       "        }    #T_a807669e_49b5_11eb_aba7_98460a92372arow7_col8 {\n",
       "            background-color:  #fff7fb;\n",
       "            color:  #000000;\n",
       "        }    #T_a807669e_49b5_11eb_aba7_98460a92372arow8_col0 {\n",
       "            background-color:  #569dc8;\n",
       "            color:  #000000;\n",
       "        }    #T_a807669e_49b5_11eb_aba7_98460a92372arow8_col1 {\n",
       "            background-color:  #fff7fb;\n",
       "            color:  #000000;\n",
       "        }    #T_a807669e_49b5_11eb_aba7_98460a92372arow8_col2 {\n",
       "            background-color:  #fff7fb;\n",
       "            color:  #000000;\n",
       "        }    #T_a807669e_49b5_11eb_aba7_98460a92372arow8_col3 {\n",
       "            background-color:  #fff7fb;\n",
       "            color:  #000000;\n",
       "        }    #T_a807669e_49b5_11eb_aba7_98460a92372arow8_col4 {\n",
       "            background-color:  #fff7fb;\n",
       "            color:  #000000;\n",
       "        }    #T_a807669e_49b5_11eb_aba7_98460a92372arow8_col5 {\n",
       "            background-color:  #fff7fb;\n",
       "            color:  #000000;\n",
       "        }    #T_a807669e_49b5_11eb_aba7_98460a92372arow8_col6 {\n",
       "            background-color:  #fff7fb;\n",
       "            color:  #000000;\n",
       "        }    #T_a807669e_49b5_11eb_aba7_98460a92372arow8_col7 {\n",
       "            background-color:  #fff7fb;\n",
       "            color:  #000000;\n",
       "        }    #T_a807669e_49b5_11eb_aba7_98460a92372arow8_col8 {\n",
       "            background-color:  #fff7fb;\n",
       "            color:  #000000;\n",
       "        }</style><table id=\"T_a807669e_49b5_11eb_aba7_98460a92372a\" ><thead>    <tr>        <th class=\"blank level0\" ></th>        <th class=\"col_heading level0 col0\" >12-24</th>        <th class=\"col_heading level0 col1\" >24-36</th>        <th class=\"col_heading level0 col2\" >36-48</th>        <th class=\"col_heading level0 col3\" >48-60</th>        <th class=\"col_heading level0 col4\" >60-72</th>        <th class=\"col_heading level0 col5\" >72-84</th>        <th class=\"col_heading level0 col6\" >84-96</th>        <th class=\"col_heading level0 col7\" >96-108</th>        <th class=\"col_heading level0 col8\" >108-120</th>    </tr></thead><tbody>\n",
       "                <tr>\n",
       "                        <th id=\"T_a807669e_49b5_11eb_aba7_98460a92372alevel0_row0\" class=\"row_heading level0 row0\" >2001</th>\n",
       "                        <td id=\"T_a807669e_49b5_11eb_aba7_98460a92372arow0_col0\" class=\"data row0 col0\" >3.1432</td>\n",
       "                        <td id=\"T_a807669e_49b5_11eb_aba7_98460a92372arow0_col1\" class=\"data row0 col1\" >1.5428</td>\n",
       "                        <td id=\"T_a807669e_49b5_11eb_aba7_98460a92372arow0_col2\" class=\"data row0 col2\" >1.2783</td>\n",
       "                        <td></td>\n",
       "                        <td id=\"T_a807669e_49b5_11eb_aba7_98460a92372arow0_col4\" class=\"data row0 col4\" >1.2092</td>\n",
       "                        <td id=\"T_a807669e_49b5_11eb_aba7_98460a92372arow0_col5\" class=\"data row0 col5\" >1.0441</td>\n",
       "                        <td id=\"T_a807669e_49b5_11eb_aba7_98460a92372arow0_col6\" class=\"data row0 col6\" >1.0404</td>\n",
       "                        <td id=\"T_a807669e_49b5_11eb_aba7_98460a92372arow0_col7\" class=\"data row0 col7\" >1.0630</td>\n",
       "                        <td id=\"T_a807669e_49b5_11eb_aba7_98460a92372arow0_col8\" class=\"data row0 col8\" >1.0177</td>\n",
       "            </tr>\n",
       "            <tr>\n",
       "                        <th id=\"T_a807669e_49b5_11eb_aba7_98460a92372alevel0_row1\" class=\"row_heading level0 row1\" >2002</th>\n",
       "                        <td id=\"T_a807669e_49b5_11eb_aba7_98460a92372arow1_col0\" class=\"data row1 col0\" >3.5106</td>\n",
       "                        <td id=\"T_a807669e_49b5_11eb_aba7_98460a92372arow1_col1\" class=\"data row1 col1\" >1.7555</td>\n",
       "                        <td id=\"T_a807669e_49b5_11eb_aba7_98460a92372arow1_col2\" class=\"data row1 col2\" >1.5453</td>\n",
       "                        <td id=\"T_a807669e_49b5_11eb_aba7_98460a92372arow1_col3\" class=\"data row1 col3\" >1.1329</td>\n",
       "                        <td id=\"T_a807669e_49b5_11eb_aba7_98460a92372arow1_col4\" class=\"data row1 col4\" >1.0845</td>\n",
       "                        <td id=\"T_a807669e_49b5_11eb_aba7_98460a92372arow1_col5\" class=\"data row1 col5\" >1.1281</td>\n",
       "                        <td id=\"T_a807669e_49b5_11eb_aba7_98460a92372arow1_col6\" class=\"data row1 col6\" >1.0573</td>\n",
       "                        <td id=\"T_a807669e_49b5_11eb_aba7_98460a92372arow1_col7\" class=\"data row1 col7\" >1.0865</td>\n",
       "                        <td></td>\n",
       "            </tr>\n",
       "            <tr>\n",
       "                        <th id=\"T_a807669e_49b5_11eb_aba7_98460a92372alevel0_row2\" class=\"row_heading level0 row2\" >2003</th>\n",
       "                        <td id=\"T_a807669e_49b5_11eb_aba7_98460a92372arow2_col0\" class=\"data row2 col0\" >4.4485</td>\n",
       "                        <td id=\"T_a807669e_49b5_11eb_aba7_98460a92372arow2_col1\" class=\"data row2 col1\" >1.7167</td>\n",
       "                        <td id=\"T_a807669e_49b5_11eb_aba7_98460a92372arow2_col2\" class=\"data row2 col2\" >1.4583</td>\n",
       "                        <td id=\"T_a807669e_49b5_11eb_aba7_98460a92372arow2_col3\" class=\"data row2 col3\" >1.2321</td>\n",
       "                        <td id=\"T_a807669e_49b5_11eb_aba7_98460a92372arow2_col4\" class=\"data row2 col4\" >1.0369</td>\n",
       "                        <td id=\"T_a807669e_49b5_11eb_aba7_98460a92372arow2_col5\" class=\"data row2 col5\" >1.1200</td>\n",
       "                        <td id=\"T_a807669e_49b5_11eb_aba7_98460a92372arow2_col6\" class=\"data row2 col6\" >1.0606</td>\n",
       "                        <td></td>\n",
       "                        <td></td>\n",
       "            </tr>\n",
       "            <tr>\n",
       "                        <th id=\"T_a807669e_49b5_11eb_aba7_98460a92372alevel0_row3\" class=\"row_heading level0 row3\" >2004</th>\n",
       "                        <td></td>\n",
       "                        <td id=\"T_a807669e_49b5_11eb_aba7_98460a92372arow3_col1\" class=\"data row3 col1\" >1.5471</td>\n",
       "                        <td></td>\n",
       "                        <td id=\"T_a807669e_49b5_11eb_aba7_98460a92372arow3_col3\" class=\"data row3 col3\" >1.0725</td>\n",
       "                        <td id=\"T_a807669e_49b5_11eb_aba7_98460a92372arow3_col4\" class=\"data row3 col4\" >1.0874</td>\n",
       "                        <td id=\"T_a807669e_49b5_11eb_aba7_98460a92372arow3_col5\" class=\"data row3 col5\" >1.0471</td>\n",
       "                        <td></td>\n",
       "                        <td></td>\n",
       "                        <td></td>\n",
       "            </tr>\n",
       "            <tr>\n",
       "                        <th id=\"T_a807669e_49b5_11eb_aba7_98460a92372alevel0_row4\" class=\"row_heading level0 row4\" >2005</th>\n",
       "                        <td id=\"T_a807669e_49b5_11eb_aba7_98460a92372arow4_col0\" class=\"data row4 col0\" >2.5642</td>\n",
       "                        <td id=\"T_a807669e_49b5_11eb_aba7_98460a92372arow4_col1\" class=\"data row4 col1\" >1.8730</td>\n",
       "                        <td id=\"T_a807669e_49b5_11eb_aba7_98460a92372arow4_col2\" class=\"data row4 col2\" >1.3615</td>\n",
       "                        <td id=\"T_a807669e_49b5_11eb_aba7_98460a92372arow4_col3\" class=\"data row4 col3\" >1.1742</td>\n",
       "                        <td id=\"T_a807669e_49b5_11eb_aba7_98460a92372arow4_col4\" class=\"data row4 col4\" >1.1383</td>\n",
       "                        <td></td>\n",
       "                        <td></td>\n",
       "                        <td></td>\n",
       "                        <td></td>\n",
       "            </tr>\n",
       "            <tr>\n",
       "                        <th id=\"T_a807669e_49b5_11eb_aba7_98460a92372alevel0_row5\" class=\"row_heading level0 row5\" >2006</th>\n",
       "                        <td id=\"T_a807669e_49b5_11eb_aba7_98460a92372arow5_col0\" class=\"data row5 col0\" >3.3656</td>\n",
       "                        <td id=\"T_a807669e_49b5_11eb_aba7_98460a92372arow5_col1\" class=\"data row5 col1\" >1.6357</td>\n",
       "                        <td id=\"T_a807669e_49b5_11eb_aba7_98460a92372arow5_col2\" class=\"data row5 col2\" >1.3692</td>\n",
       "                        <td id=\"T_a807669e_49b5_11eb_aba7_98460a92372arow5_col3\" class=\"data row5 col3\" >1.2364</td>\n",
       "                        <td></td>\n",
       "                        <td></td>\n",
       "                        <td></td>\n",
       "                        <td></td>\n",
       "                        <td></td>\n",
       "            </tr>\n",
       "            <tr>\n",
       "                        <th id=\"T_a807669e_49b5_11eb_aba7_98460a92372alevel0_row6\" class=\"row_heading level0 row6\" >2007</th>\n",
       "                        <td id=\"T_a807669e_49b5_11eb_aba7_98460a92372arow6_col0\" class=\"data row6 col0\" >2.9228</td>\n",
       "                        <td id=\"T_a807669e_49b5_11eb_aba7_98460a92372arow6_col1\" class=\"data row6 col1\" >1.8781</td>\n",
       "                        <td id=\"T_a807669e_49b5_11eb_aba7_98460a92372arow6_col2\" class=\"data row6 col2\" >1.4394</td>\n",
       "                        <td></td>\n",
       "                        <td></td>\n",
       "                        <td></td>\n",
       "                        <td></td>\n",
       "                        <td></td>\n",
       "                        <td></td>\n",
       "            </tr>\n",
       "            <tr>\n",
       "                        <th id=\"T_a807669e_49b5_11eb_aba7_98460a92372alevel0_row7\" class=\"row_heading level0 row7\" >2008</th>\n",
       "                        <td id=\"T_a807669e_49b5_11eb_aba7_98460a92372arow7_col0\" class=\"data row7 col0\" >3.9533</td>\n",
       "                        <td></td>\n",
       "                        <td></td>\n",
       "                        <td></td>\n",
       "                        <td></td>\n",
       "                        <td></td>\n",
       "                        <td></td>\n",
       "                        <td></td>\n",
       "                        <td></td>\n",
       "            </tr>\n",
       "            <tr>\n",
       "                        <th id=\"T_a807669e_49b5_11eb_aba7_98460a92372alevel0_row8\" class=\"row_heading level0 row8\" >2009</th>\n",
       "                        <td id=\"T_a807669e_49b5_11eb_aba7_98460a92372arow8_col0\" class=\"data row8 col0\" >3.6192</td>\n",
       "                        <td></td>\n",
       "                        <td></td>\n",
       "                        <td></td>\n",
       "                        <td></td>\n",
       "                        <td></td>\n",
       "                        <td></td>\n",
       "                        <td></td>\n",
       "                        <td></td>\n",
       "            </tr>\n",
       "    </tbody></table>"
      ],
      "text/plain": [
       "<IPython.core.display.HTML object>"
      ]
     },
     "execution_count": 32,
     "metadata": {},
     "output_type": "execute_result"
    }
   ],
   "source": [
    "transformed_triangle.link_ratio.heatmap(cmap='PuBu')"
   ]
  },
  {
   "cell_type": "code",
   "execution_count": 33,
   "metadata": {},
   "outputs": [
    {
     "name": "stdout",
     "output_type": "stream",
     "text": [
      "<class 'chainladder.core.triangle.Triangle'>\n"
     ]
    },
    {
     "data": {
      "text/html": [
       "<table border=\"1\" class=\"dataframe\">\n",
       "  <thead>\n",
       "    <tr style=\"text-align: right;\">\n",
       "      <th></th>\n",
       "      <th>2010</th>\n",
       "    </tr>\n",
       "  </thead>\n",
       "  <tbody>\n",
       "    <tr>\n",
       "      <th>2001</th>\n",
       "      <td>3,901,463</td>\n",
       "    </tr>\n",
       "    <tr>\n",
       "      <th>2002</th>\n",
       "      <td>5,339,085</td>\n",
       "    </tr>\n",
       "    <tr>\n",
       "      <th>2003</th>\n",
       "      <td>4,909,315</td>\n",
       "    </tr>\n",
       "    <tr>\n",
       "      <th>2004</th>\n",
       "      <td>4,588,268</td>\n",
       "    </tr>\n",
       "    <tr>\n",
       "      <th>2005</th>\n",
       "      <td>3,873,311</td>\n",
       "    </tr>\n",
       "    <tr>\n",
       "      <th>2006</th>\n",
       "      <td>3,691,712</td>\n",
       "    </tr>\n",
       "    <tr>\n",
       "      <th>2007</th>\n",
       "      <td>3,483,130</td>\n",
       "    </tr>\n",
       "    <tr>\n",
       "      <th>2008</th>\n",
       "      <td>2,864,498</td>\n",
       "    </tr>\n",
       "    <tr>\n",
       "      <th>2009</th>\n",
       "      <td>1,363,294</td>\n",
       "    </tr>\n",
       "    <tr>\n",
       "      <th>2010</th>\n",
       "      <td>344,014</td>\n",
       "    </tr>\n",
       "  </tbody>\n",
       "</table>"
      ],
      "text/plain": [
       "           2010\n",
       "2001  3901463.0\n",
       "2002  5339085.0\n",
       "2003  4909315.0\n",
       "2004  4588268.0\n",
       "2005  3873311.0\n",
       "2006  3691712.0\n",
       "2007  3483130.0\n",
       "2008  2864498.0\n",
       "2009  1363294.0\n",
       "2010   344014.0"
      ]
     },
     "execution_count": 33,
     "metadata": {},
     "output_type": "execute_result"
    }
   ],
   "source": [
    "print(type(transformed_triangle))\n",
    "transformed_triangle.latest_diagonal"
   ]
  },
  {
   "cell_type": "markdown",
   "metadata": {},
   "source": [
    "However, it has other attributes that make it IBNR model-ready."
   ]
  },
  {
   "cell_type": "code",
   "execution_count": 34,
   "metadata": {},
   "outputs": [
    {
     "data": {
      "text/html": [
       "<table border=\"1\" class=\"dataframe\">\n",
       "  <thead>\n",
       "    <tr style=\"text-align: right;\">\n",
       "      <th></th>\n",
       "      <th>12-Ult</th>\n",
       "      <th>24-Ult</th>\n",
       "      <th>36-Ult</th>\n",
       "      <th>48-Ult</th>\n",
       "      <th>60-Ult</th>\n",
       "      <th>72-Ult</th>\n",
       "      <th>84-Ult</th>\n",
       "      <th>96-Ult</th>\n",
       "      <th>108-Ult</th>\n",
       "    </tr>\n",
       "  </thead>\n",
       "  <tbody>\n",
       "    <tr>\n",
       "      <th>(All)</th>\n",
       "      <td>13.1367</td>\n",
       "      <td>3.8870</td>\n",
       "      <td>2.2809</td>\n",
       "      <td>1.6131</td>\n",
       "      <td>1.3845</td>\n",
       "      <td>1.2543</td>\n",
       "      <td>1.1547</td>\n",
       "      <td>1.0956</td>\n",
       "      <td>1.0177</td>\n",
       "    </tr>\n",
       "  </tbody>\n",
       "</table>"
      ],
      "text/plain": [
       "          12-Ult    24-Ult   36-Ult   48-Ult    60-Ult    72-Ult    84-Ult    96-Ult   108-Ult\n",
       "(All)  13.136729  3.886978  2.28089  1.61311  1.384499  1.254276  1.154664  1.095637  1.017725"
      ]
     },
     "execution_count": 34,
     "metadata": {},
     "output_type": "execute_result"
    }
   ],
   "source": [
    "transformed_triangle.cdf_"
   ]
  },
  {
   "cell_type": "markdown",
   "metadata": {},
   "source": [
    "`fit_transform()` is equivalent to calling `fit` and `transform` in succession on the same triangle.  Again, this should feel very familiar to the `sklearn` practitioner."
   ]
  },
  {
   "cell_type": "code",
   "execution_count": 35,
   "metadata": {},
   "outputs": [
    {
     "data": {
      "text/plain": [
       "True"
      ]
     },
     "execution_count": 35,
     "metadata": {},
     "output_type": "execute_result"
    }
   ],
   "source": [
    "cl.Development().fit_transform(genins) == cl.Development().fit(genins).transform(genins)"
   ]
  },
  {
   "cell_type": "markdown",
   "metadata": {},
   "source": [
    "The reason you might want want to use `fit` and `transform` separately would be when you want to apply development patterns to a a different triangle.  For examlple, we can:\n",
    "\n",
    "1. Extract the commercial auto triangles from the `clrd` dataset<br>\n",
    "2. Summarize to an industry level and `fit` a `Development` object<br>\n",
    "3. We can then `transform` the individual company triangles with the industry development patterns<br>"
   ]
  },
  {
   "cell_type": "code",
   "execution_count": 36,
   "metadata": {},
   "outputs": [
    {
     "data": {
      "text/html": [
       "<table border=\"1\" class=\"dataframe\">\n",
       "  <thead>\n",
       "    <tr style=\"text-align: right;\">\n",
       "      <th></th>\n",
       "      <th>Triangle Summary</th>\n",
       "    </tr>\n",
       "  </thead>\n",
       "  <tbody>\n",
       "    <tr>\n",
       "      <th>Valuation:</th>\n",
       "      <td>1997-12</td>\n",
       "    </tr>\n",
       "    <tr>\n",
       "      <th>Grain:</th>\n",
       "      <td>OYDY</td>\n",
       "    </tr>\n",
       "    <tr>\n",
       "      <th>Shape:</th>\n",
       "      <td>(157, 1, 10, 10)</td>\n",
       "    </tr>\n",
       "    <tr>\n",
       "      <th>Index:</th>\n",
       "      <td>[GRNAME, LOB]</td>\n",
       "    </tr>\n",
       "    <tr>\n",
       "      <th>Columns:</th>\n",
       "      <td>[CumPaidLoss]</td>\n",
       "    </tr>\n",
       "  </tbody>\n",
       "</table>"
      ],
      "text/plain": [
       "            Triangle Summary\n",
       "Valuation:           1997-12\n",
       "Grain:                  OYDY\n",
       "Shape:      (157, 1, 10, 10)\n",
       "Index:         [GRNAME, LOB]\n",
       "Columns:       [CumPaidLoss]"
      ]
     },
     "execution_count": 36,
     "metadata": {},
     "output_type": "execute_result"
    }
   ],
   "source": [
    "clrd = cl.load_sample('clrd')\n",
    "comauto = clrd[clrd['LOB']=='comauto']['CumPaidLoss']\n",
    "\n",
    "comauto_industry = comauto.sum()\n",
    "industry_dev = cl.Development().fit(comauto_industry)\n",
    "\n",
    "industry_dev.transform(comauto)"
   ]
  },
  {
   "cell_type": "markdown",
   "metadata": {},
   "source": [
    "### Working with multidimensional triangles\n",
    "\n",
    "Several (though not all) of the estimators in `chainladder` can be fit to several triangles simultaneously.  While this can be a convenient shorthand, it will use the same assumptions across every triangle."
   ]
  },
  {
   "cell_type": "code",
   "execution_count": 37,
   "metadata": {},
   "outputs": [
    {
     "name": "stdout",
     "output_type": "stream",
     "text": [
      "Fitting to 6 industries simultaneously.\n"
     ]
    },
    {
     "data": {
      "text/html": [
       "<table border=\"1\" class=\"dataframe\">\n",
       "  <thead>\n",
       "    <tr style=\"text-align: right;\">\n",
       "      <th></th>\n",
       "      <th>Triangle Summary</th>\n",
       "    </tr>\n",
       "  </thead>\n",
       "  <tbody>\n",
       "    <tr>\n",
       "      <th>Valuation:</th>\n",
       "      <td>2262-03</td>\n",
       "    </tr>\n",
       "    <tr>\n",
       "      <th>Grain:</th>\n",
       "      <td>OYDY</td>\n",
       "    </tr>\n",
       "    <tr>\n",
       "      <th>Shape:</th>\n",
       "      <td>(6, 1, 1, 9)</td>\n",
       "    </tr>\n",
       "    <tr>\n",
       "      <th>Index:</th>\n",
       "      <td>[LOB]</td>\n",
       "    </tr>\n",
       "    <tr>\n",
       "      <th>Columns:</th>\n",
       "      <td>[CumPaidLoss]</td>\n",
       "    </tr>\n",
       "  </tbody>\n",
       "</table>"
      ],
      "text/plain": [
       "           Triangle Summary\n",
       "Valuation:          2262-03\n",
       "Grain:                 OYDY\n",
       "Shape:         (6, 1, 1, 9)\n",
       "Index:                [LOB]\n",
       "Columns:      [CumPaidLoss]"
      ]
     },
     "execution_count": 37,
     "metadata": {},
     "output_type": "execute_result"
    }
   ],
   "source": [
    "clrd = cl.load_sample('clrd').groupby('LOB').sum()['CumPaidLoss']\n",
    "print('Fitting to ' + str(len(clrd.index)) + ' industries simultaneously.')\n",
    "cl.Development().fit_transform(clrd).cdf_"
   ]
  },
  {
   "cell_type": "markdown",
   "metadata": {},
   "source": [
    "For greater control, you can slice individual triangles out and fit separate patterns to each."
   ]
  },
  {
   "cell_type": "code",
   "execution_count": 38,
   "metadata": {},
   "outputs": [
    {
     "name": "stdout",
     "output_type": "stream",
     "text": [
      "Development(average='simple', drop=None, drop_high=None, drop_low=None,\n",
      "            drop_valuation=None, fillna=None, n_periods=-1,\n",
      "            sigma_interpolation='log-linear')\n",
      "Development(average='volume', drop=None, drop_high=None, drop_low=None,\n",
      "            drop_valuation=None, fillna=None, n_periods=4,\n",
      "            sigma_interpolation='log-linear')\n",
      "Development(average='regression', drop=None, drop_high=None, drop_low=None,\n",
      "            drop_valuation=None, fillna=None, n_periods=6,\n",
      "            sigma_interpolation='log-linear')\n"
     ]
    }
   ],
   "source": [
    "print(cl.Development(average='simple').fit(clrd.loc['wkcomp']))\n",
    "print(cl.Development(n_periods=4).fit(clrd.loc['ppauto']))\n",
    "print(cl.Development(average='regression', n_periods=6).fit(clrd.loc['comauto']))"
   ]
  },
  {
   "cell_type": "code",
   "execution_count": null,
   "metadata": {},
   "outputs": [],
   "source": []
  }
 ],
 "metadata": {
  "kernelspec": {
   "display_name": "Python 3",
   "language": "python",
   "name": "python3"
  },
  "language_info": {
   "codemirror_mode": {
    "name": "ipython",
    "version": 3
   },
   "file_extension": ".py",
   "mimetype": "text/x-python",
   "name": "python",
   "nbconvert_exporter": "python",
   "pygments_lexer": "ipython3",
   "version": "3.7.7"
  }
 },
 "nbformat": 4,
 "nbformat_minor": 4
}

{
 "cells": [
  {
   "cell_type": "code",
   "execution_count": null,
   "metadata": {},
   "outputs": [],
   "source": []
  },
  {
   "cell_type": "code",
   "execution_count": 1,
   "metadata": {},
   "outputs": [
    {
     "name": "stderr",
     "output_type": "stream",
     "text": [
      "\n",
      "Welcome to ChainLadder version 0.2.12\n",
      "\n",
      "To cite package ‘ChainLadder’ in publications use:\n",
      "\n",
      "  Markus Gesmann, Daniel Murphy, Yanwei (Wayne) Zhang, Alessandro\n",
      "  Carrato, Mario Wuthrich, Fabio Concina and Eric Dal Moro (2021).\n",
      "  ChainLadder: Statistical Methods and Models for Claims Reserving in\n",
      "  General Insurance. R package version 0.2.12.\n",
      "  https://CRAN.R-project.org/package=ChainLadder\n",
      "\n",
      "To suppress this message use:\n",
      "suppressPackageStartupMessages(library(ChainLadder))\n",
      "\n",
      "\n"
     ]
    }
   ],
   "source": [
    "library(ChainLadder)"
   ]
  },
  {
   "cell_type": "code",
   "execution_count": 2,
   "metadata": {},
   "outputs": [],
   "source": [
    "#data(package=\"ChainLadder\")"
   ]
  },
  {
   "cell_type": "code",
   "execution_count": 3,
   "metadata": {},
   "outputs": [
    {
     "data": {
      "text/html": [
       "<table class=\"dataframe\">\n",
       "<caption>A triangle: 10 × 10 of type int</caption>\n",
       "<thead>\n",
       "\t<tr><th></th><th scope=col>1</th><th scope=col>2</th><th scope=col>3</th><th scope=col>4</th><th scope=col>5</th><th scope=col>6</th><th scope=col>7</th><th scope=col>8</th><th scope=col>9</th><th scope=col>10</th></tr>\n",
       "</thead>\n",
       "<tbody>\n",
       "\t<tr><th scope=row>1981</th><td>5012</td><td> 8269</td><td>10907</td><td>11805</td><td>13539</td><td>16181</td><td>18009</td><td>18608</td><td>18662</td><td>18834</td></tr>\n",
       "\t<tr><th scope=row>1982</th><td> 106</td><td> 4285</td><td> 5396</td><td>10666</td><td>13782</td><td>15599</td><td>15496</td><td>16169</td><td>16704</td><td>   NA</td></tr>\n",
       "\t<tr><th scope=row>1983</th><td>3410</td><td> 8992</td><td>13873</td><td>16141</td><td>18735</td><td>22214</td><td>22863</td><td>23466</td><td>   NA</td><td>   NA</td></tr>\n",
       "\t<tr><th scope=row>1984</th><td>5655</td><td>11555</td><td>15766</td><td>21266</td><td>23425</td><td>26083</td><td>27067</td><td>   NA</td><td>   NA</td><td>   NA</td></tr>\n",
       "\t<tr><th scope=row>1985</th><td>1092</td><td> 9565</td><td>15836</td><td>22169</td><td>25955</td><td>26180</td><td>   NA</td><td>   NA</td><td>   NA</td><td>   NA</td></tr>\n",
       "\t<tr><th scope=row>1986</th><td>1513</td><td> 6445</td><td>11702</td><td>12935</td><td>15852</td><td>   NA</td><td>   NA</td><td>   NA</td><td>   NA</td><td>   NA</td></tr>\n",
       "\t<tr><th scope=row>1987</th><td> 557</td><td> 4020</td><td>10946</td><td>12314</td><td>   NA</td><td>   NA</td><td>   NA</td><td>   NA</td><td>   NA</td><td>   NA</td></tr>\n",
       "\t<tr><th scope=row>1988</th><td>1351</td><td> 6947</td><td>13112</td><td>   NA</td><td>   NA</td><td>   NA</td><td>   NA</td><td>   NA</td><td>   NA</td><td>   NA</td></tr>\n",
       "\t<tr><th scope=row>1989</th><td>3133</td><td> 5395</td><td>   NA</td><td>   NA</td><td>   NA</td><td>   NA</td><td>   NA</td><td>   NA</td><td>   NA</td><td>   NA</td></tr>\n",
       "\t<tr><th scope=row>1990</th><td>2063</td><td>   NA</td><td>   NA</td><td>   NA</td><td>   NA</td><td>   NA</td><td>   NA</td><td>   NA</td><td>   NA</td><td>   NA</td></tr>\n",
       "</tbody>\n",
       "</table>\n"
      ],
      "text/latex": [
       "A triangle: 10 × 10 of type int\n",
       "\\begin{tabular}{r|llllllllll}\n",
       "  & 1 & 2 & 3 & 4 & 5 & 6 & 7 & 8 & 9 & 10\\\\\n",
       "\\hline\n",
       "\t1981 & 5012 &  8269 & 10907 & 11805 & 13539 & 16181 & 18009 & 18608 & 18662 & 18834\\\\\n",
       "\t1982 &  106 &  4285 &  5396 & 10666 & 13782 & 15599 & 15496 & 16169 & 16704 &    NA\\\\\n",
       "\t1983 & 3410 &  8992 & 13873 & 16141 & 18735 & 22214 & 22863 & 23466 &    NA &    NA\\\\\n",
       "\t1984 & 5655 & 11555 & 15766 & 21266 & 23425 & 26083 & 27067 &    NA &    NA &    NA\\\\\n",
       "\t1985 & 1092 &  9565 & 15836 & 22169 & 25955 & 26180 &    NA &    NA &    NA &    NA\\\\\n",
       "\t1986 & 1513 &  6445 & 11702 & 12935 & 15852 &    NA &    NA &    NA &    NA &    NA\\\\\n",
       "\t1987 &  557 &  4020 & 10946 & 12314 &    NA &    NA &    NA &    NA &    NA &    NA\\\\\n",
       "\t1988 & 1351 &  6947 & 13112 &    NA &    NA &    NA &    NA &    NA &    NA &    NA\\\\\n",
       "\t1989 & 3133 &  5395 &    NA &    NA &    NA &    NA &    NA &    NA &    NA &    NA\\\\\n",
       "\t1990 & 2063 &    NA &    NA &    NA &    NA &    NA &    NA &    NA &    NA &    NA\\\\\n",
       "\\end{tabular}\n"
      ],
      "text/markdown": [
       "\n",
       "A triangle: 10 × 10 of type int\n",
       "\n",
       "| <!--/--> | 1 | 2 | 3 | 4 | 5 | 6 | 7 | 8 | 9 | 10 |\n",
       "|---|---|---|---|---|---|---|---|---|---|---|\n",
       "| 1981 | 5012 |  8269 | 10907 | 11805 | 13539 | 16181 | 18009 | 18608 | 18662 | 18834 |\n",
       "| 1982 |  106 |  4285 |  5396 | 10666 | 13782 | 15599 | 15496 | 16169 | 16704 |    NA |\n",
       "| 1983 | 3410 |  8992 | 13873 | 16141 | 18735 | 22214 | 22863 | 23466 |    NA |    NA |\n",
       "| 1984 | 5655 | 11555 | 15766 | 21266 | 23425 | 26083 | 27067 |    NA |    NA |    NA |\n",
       "| 1985 | 1092 |  9565 | 15836 | 22169 | 25955 | 26180 |    NA |    NA |    NA |    NA |\n",
       "| 1986 | 1513 |  6445 | 11702 | 12935 | 15852 |    NA |    NA |    NA |    NA |    NA |\n",
       "| 1987 |  557 |  4020 | 10946 | 12314 |    NA |    NA |    NA |    NA |    NA |    NA |\n",
       "| 1988 | 1351 |  6947 | 13112 |    NA |    NA |    NA |    NA |    NA |    NA |    NA |\n",
       "| 1989 | 3133 |  5395 |    NA |    NA |    NA |    NA |    NA |    NA |    NA |    NA |\n",
       "| 1990 | 2063 |    NA |    NA |    NA |    NA |    NA |    NA |    NA |    NA |    NA |\n",
       "\n"
      ],
      "text/plain": [
       "      dev\n",
       "origin 1    2     3     4     5     6     7     8     9     10   \n",
       "  1981 5012  8269 10907 11805 13539 16181 18009 18608 18662 18834\n",
       "  1982  106  4285  5396 10666 13782 15599 15496 16169 16704    NA\n",
       "  1983 3410  8992 13873 16141 18735 22214 22863 23466    NA    NA\n",
       "  1984 5655 11555 15766 21266 23425 26083 27067    NA    NA    NA\n",
       "  1985 1092  9565 15836 22169 25955 26180    NA    NA    NA    NA\n",
       "  1986 1513  6445 11702 12935 15852    NA    NA    NA    NA    NA\n",
       "  1987  557  4020 10946 12314    NA    NA    NA    NA    NA    NA\n",
       "  1988 1351  6947 13112    NA    NA    NA    NA    NA    NA    NA\n",
       "  1989 3133  5395    NA    NA    NA    NA    NA    NA    NA    NA\n",
       "  1990 2063    NA    NA    NA    NA    NA    NA    NA    NA    NA"
      ]
     },
     "metadata": {},
     "output_type": "display_data"
    }
   ],
   "source": [
    "RAA"
   ]
  },
  {
   "cell_type": "code",
   "execution_count": null,
   "metadata": {},
   "outputs": [],
   "source": []
  }
 ],
 "metadata": {
  "kernelspec": {
   "display_name": "R",
   "language": "R",
   "name": "ir"
  },
  "language_info": {
   "codemirror_mode": "r",
   "file_extension": ".r",
   "mimetype": "text/x-r-source",
   "name": "R",
   "pygments_lexer": "r",
   "version": "4.0.3"
  }
 },
 "nbformat": 4,
 "nbformat_minor": 4
}

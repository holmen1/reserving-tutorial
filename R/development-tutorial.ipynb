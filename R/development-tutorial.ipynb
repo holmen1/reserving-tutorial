{
 "cells": [
  {
   "cell_type": "markdown",
   "metadata": {},
   "source": [
    "# development-tutorial"
   ]
  },
  {
   "cell_type": "code",
   "execution_count": 1,
   "metadata": {},
   "outputs": [
    {
     "name": "stderr",
     "output_type": "stream",
     "text": [
      "\n",
      "Welcome to ChainLadder version 0.2.12\n",
      "\n",
      "To cite package ‘ChainLadder’ in publications use:\n",
      "\n",
      "  Markus Gesmann, Daniel Murphy, Yanwei (Wayne) Zhang, Alessandro\n",
      "  Carrato, Mario Wuthrich, Fabio Concina and Eric Dal Moro (2021).\n",
      "  ChainLadder: Statistical Methods and Models for Claims Reserving in\n",
      "  General Insurance. R package version 0.2.12.\n",
      "  https://CRAN.R-project.org/package=ChainLadder\n",
      "\n",
      "To suppress this message use:\n",
      "suppressPackageStartupMessages(library(ChainLadder))\n",
      "\n",
      "\n"
     ]
    }
   ],
   "source": [
    "library(ChainLadder)"
   ]
  },
  {
   "cell_type": "code",
   "execution_count": 2,
   "metadata": {},
   "outputs": [],
   "source": [
    "demo(package=\"ChainLadder\")"
   ]
  },
  {
   "cell_type": "code",
   "execution_count": 3,
   "metadata": {},
   "outputs": [],
   "source": [
    "??plot.triangle"
   ]
  },
  {
   "cell_type": "code",
   "execution_count": 4,
   "metadata": {},
   "outputs": [
    {
     "data": {
      "text/html": [
       "<style>\n",
       ".dl-inline {width: auto; margin:0; padding: 0}\n",
       ".dl-inline>dt, .dl-inline>dd {float: none; width: auto; display: inline-block}\n",
       ".dl-inline>dt::after {content: \":\\0020\"; padding-right: .5ex}\n",
       ".dl-inline>dt:not(:first-of-type) {padding-left: .5ex}\n",
       "</style><dl class=dl-inline><dt>1</dt><dd>5012</dd><dt>2</dt><dd>3257</dd><dt>3</dt><dd>2638</dd><dt>4</dt><dd>898</dd><dt>5</dt><dd>1734</dd><dt>6</dt><dd>2642</dd><dt>7</dt><dd>1828</dd><dt>8</dt><dd>599</dd><dt>9</dt><dd>54</dd><dt>10</dt><dd>172</dd></dl>\n"
      ],
      "text/latex": [
       "\\begin{description*}\n",
       "\\item[1] 5012\n",
       "\\item[2] 3257\n",
       "\\item[3] 2638\n",
       "\\item[4] 898\n",
       "\\item[5] 1734\n",
       "\\item[6] 2642\n",
       "\\item[7] 1828\n",
       "\\item[8] 599\n",
       "\\item[9] 54\n",
       "\\item[10] 172\n",
       "\\end{description*}\n"
      ],
      "text/markdown": [
       "1\n",
       ":   50122\n",
       ":   32573\n",
       ":   26384\n",
       ":   8985\n",
       ":   17346\n",
       ":   26427\n",
       ":   18288\n",
       ":   5999\n",
       ":   5410\n",
       ":   172\n",
       "\n"
      ],
      "text/plain": [
       "   1    2    3    4    5    6    7    8    9   10 \n",
       "5012 3257 2638  898 1734 2642 1828  599   54  172 "
      ]
     },
     "metadata": {},
     "output_type": "display_data"
    }
   ],
   "source": [
    "raa.inc <- cum2incr(RAA)\n",
    "## Show first origin period and its incremental development\n",
    "raa.inc[1,]"
   ]
  },
  {
   "cell_type": "code",
   "execution_count": 5,
   "metadata": {},
   "outputs": [
    {
     "data": {
      "text/html": [
       "<table class=\"dataframe\">\n",
       "<caption>A data.frame: 6 × 3</caption>\n",
       "<thead>\n",
       "\t<tr><th></th><th scope=col>accident</th><th scope=col>development</th><th scope=col>paid</th></tr>\n",
       "\t<tr><th></th><th scope=col>&lt;int&gt;</th><th scope=col>&lt;int&gt;</th><th scope=col>&lt;int&gt;</th></tr>\n",
       "</thead>\n",
       "<tbody>\n",
       "\t<tr><th scope=row>1</th><td>2011</td><td>2011</td><td>5946975</td></tr>\n",
       "\t<tr><th scope=row>2</th><td>2012</td><td>2012</td><td>6346756</td></tr>\n",
       "\t<tr><th scope=row>3</th><td>2013</td><td>2013</td><td>6269090</td></tr>\n",
       "\t<tr><th scope=row>4</th><td>2014</td><td>2014</td><td>5863015</td></tr>\n",
       "\t<tr><th scope=row>5</th><td>2015</td><td>2015</td><td>5778885</td></tr>\n",
       "\t<tr><th scope=row>6</th><td>2016</td><td>2016</td><td>6184793</td></tr>\n",
       "</tbody>\n",
       "</table>\n"
      ],
      "text/latex": [
       "A data.frame: 6 × 3\n",
       "\\begin{tabular}{r|lll}\n",
       "  & accident & development & paid\\\\\n",
       "  & <int> & <int> & <int>\\\\\n",
       "\\hline\n",
       "\t1 & 2011 & 2011 & 5946975\\\\\n",
       "\t2 & 2012 & 2012 & 6346756\\\\\n",
       "\t3 & 2013 & 2013 & 6269090\\\\\n",
       "\t4 & 2014 & 2014 & 5863015\\\\\n",
       "\t5 & 2015 & 2015 & 5778885\\\\\n",
       "\t6 & 2016 & 2016 & 6184793\\\\\n",
       "\\end{tabular}\n"
      ],
      "text/markdown": [
       "\n",
       "A data.frame: 6 × 3\n",
       "\n",
       "| <!--/--> | accident &lt;int&gt; | development &lt;int&gt; | paid &lt;int&gt; |\n",
       "|---|---|---|---|\n",
       "| 1 | 2011 | 2011 | 5946975 |\n",
       "| 2 | 2012 | 2012 | 6346756 |\n",
       "| 3 | 2013 | 2013 | 6269090 |\n",
       "| 4 | 2014 | 2014 | 5863015 |\n",
       "| 5 | 2015 | 2015 | 5778885 |\n",
       "| 6 | 2016 | 2016 | 6184793 |\n",
       "\n"
      ],
      "text/plain": [
       "  accident development paid   \n",
       "1 2011     2011        5946975\n",
       "2 2012     2012        6346756\n",
       "3 2013     2013        6269090\n",
       "4 2014     2014        5863015\n",
       "5 2015     2015        5778885\n",
       "6 2016     2016        6184793"
      ]
     },
     "metadata": {},
     "output_type": "display_data"
    }
   ],
   "source": [
    "myData <- read.csv(\"../data/mack.csv\")\n",
    "head(myData)"
   ]
  },
  {
   "cell_type": "code",
   "execution_count": 6,
   "metadata": {},
   "outputs": [
    {
     "data": {
      "text/plain": [
       "    accident     development        paid        \n",
       " Min.   :2011   Min.   :2011   Min.   :   8924  \n",
       " 1st Qu.:2012   1st Qu.:2015   1st Qu.:  78082  \n",
       " Median :2014   Median :2017   Median : 273395  \n",
       " Mean   :2014   Mean   :2017   Mean   :1686206  \n",
       " 3rd Qu.:2016   3rd Qu.:2019   3rd Qu.:2860772  \n",
       " Max.   :2020   Max.   :2020   Max.   :6346756  "
      ]
     },
     "metadata": {},
     "output_type": "display_data"
    }
   ],
   "source": [
    "summary(myData)"
   ]
  },
  {
   "cell_type": "code",
   "execution_count": 12,
   "metadata": {},
   "outputs": [
    {
     "data": {
      "text/html": [
       "<table class=\"dataframe\">\n",
       "<caption>A data.frame: 6 × 4</caption>\n",
       "<thead>\n",
       "\t<tr><th></th><th scope=col>accident</th><th scope=col>development</th><th scope=col>paid</th><th scope=col>devyear</th></tr>\n",
       "\t<tr><th></th><th scope=col>&lt;int&gt;</th><th scope=col>&lt;int&gt;</th><th scope=col>&lt;int&gt;</th><th scope=col>&lt;dbl&gt;</th></tr>\n",
       "</thead>\n",
       "<tbody>\n",
       "\t<tr><th scope=row>1</th><td>2011</td><td>2011</td><td>5946975</td><td>1</td></tr>\n",
       "\t<tr><th scope=row>2</th><td>2012</td><td>2012</td><td>6346756</td><td>1</td></tr>\n",
       "\t<tr><th scope=row>3</th><td>2013</td><td>2013</td><td>6269090</td><td>1</td></tr>\n",
       "\t<tr><th scope=row>4</th><td>2014</td><td>2014</td><td>5863015</td><td>1</td></tr>\n",
       "\t<tr><th scope=row>5</th><td>2015</td><td>2015</td><td>5778885</td><td>1</td></tr>\n",
       "\t<tr><th scope=row>6</th><td>2016</td><td>2016</td><td>6184793</td><td>1</td></tr>\n",
       "</tbody>\n",
       "</table>\n"
      ],
      "text/latex": [
       "A data.frame: 6 × 4\n",
       "\\begin{tabular}{r|llll}\n",
       "  & accident & development & paid & devyear\\\\\n",
       "  & <int> & <int> & <int> & <dbl>\\\\\n",
       "\\hline\n",
       "\t1 & 2011 & 2011 & 5946975 & 1\\\\\n",
       "\t2 & 2012 & 2012 & 6346756 & 1\\\\\n",
       "\t3 & 2013 & 2013 & 6269090 & 1\\\\\n",
       "\t4 & 2014 & 2014 & 5863015 & 1\\\\\n",
       "\t5 & 2015 & 2015 & 5778885 & 1\\\\\n",
       "\t6 & 2016 & 2016 & 6184793 & 1\\\\\n",
       "\\end{tabular}\n"
      ],
      "text/markdown": [
       "\n",
       "A data.frame: 6 × 4\n",
       "\n",
       "| <!--/--> | accident &lt;int&gt; | development &lt;int&gt; | paid &lt;int&gt; | devyear &lt;dbl&gt; |\n",
       "|---|---|---|---|---|\n",
       "| 1 | 2011 | 2011 | 5946975 | 1 |\n",
       "| 2 | 2012 | 2012 | 6346756 | 1 |\n",
       "| 3 | 2013 | 2013 | 6269090 | 1 |\n",
       "| 4 | 2014 | 2014 | 5863015 | 1 |\n",
       "| 5 | 2015 | 2015 | 5778885 | 1 |\n",
       "| 6 | 2016 | 2016 | 6184793 | 1 |\n",
       "\n"
      ],
      "text/plain": [
       "  accident development paid    devyear\n",
       "1 2011     2011        5946975 1      \n",
       "2 2012     2012        6346756 1      \n",
       "3 2013     2013        6269090 1      \n",
       "4 2014     2014        5863015 1      \n",
       "5 2015     2015        5778885 1      \n",
       "6 2016     2016        6184793 1      "
      ]
     },
     "metadata": {},
     "output_type": "display_data"
    }
   ],
   "source": [
    "myData$devyear = myData$development - myData$accident + 1\n",
    "head(myData)"
   ]
  },
  {
   "cell_type": "code",
   "execution_count": 13,
   "metadata": {},
   "outputs": [
    {
     "data": {
      "text/html": [
       "<table class=\"dataframe\">\n",
       "<caption>A triangle: 10 × 10 of type int</caption>\n",
       "<thead>\n",
       "\t<tr><th></th><th scope=col>1</th><th scope=col>2</th><th scope=col>3</th><th scope=col>4</th><th scope=col>5</th><th scope=col>6</th><th scope=col>7</th><th scope=col>8</th><th scope=col>9</th><th scope=col>10</th></tr>\n",
       "</thead>\n",
       "<tbody>\n",
       "\t<tr><th scope=row>2011</th><td>5946975</td><td>3721237</td><td>895717</td><td>207760</td><td>206704</td><td> 62124</td><td>65813</td><td>14850</td><td>11130</td><td>15813</td></tr>\n",
       "\t<tr><th scope=row>2012</th><td>6346756</td><td>3246406</td><td>723222</td><td>151797</td><td> 67824</td><td> 36603</td><td>52752</td><td>11186</td><td>11646</td><td>   NA</td></tr>\n",
       "\t<tr><th scope=row>2013</th><td>6269090</td><td>2976223</td><td>847053</td><td>262768</td><td>152703</td><td> 65444</td><td>53545</td><td> 8924</td><td>   NA</td><td>   NA</td></tr>\n",
       "\t<tr><th scope=row>2014</th><td>5863015</td><td>2683224</td><td>722532</td><td>190653</td><td>132976</td><td> 88340</td><td>43329</td><td>   NA</td><td>   NA</td><td>   NA</td></tr>\n",
       "\t<tr><th scope=row>2015</th><td>5778885</td><td>2745229</td><td>653894</td><td>273395</td><td>230288</td><td>105224</td><td>   NA</td><td>   NA</td><td>   NA</td><td>   NA</td></tr>\n",
       "\t<tr><th scope=row>2016</th><td>6184793</td><td>2828338</td><td>572765</td><td>244899</td><td>104957</td><td>    NA</td><td>   NA</td><td>   NA</td><td>   NA</td><td>   NA</td></tr>\n",
       "\t<tr><th scope=row>2017</th><td>5600184</td><td>2893207</td><td>563114</td><td>225517</td><td>    NA</td><td>    NA</td><td>   NA</td><td>   NA</td><td>   NA</td><td>   NA</td></tr>\n",
       "\t<tr><th scope=row>2018</th><td>5288066</td><td>2440103</td><td>528043</td><td>    NA</td><td>    NA</td><td>    NA</td><td>   NA</td><td>   NA</td><td>   NA</td><td>   NA</td></tr>\n",
       "\t<tr><th scope=row>2019</th><td>5290793</td><td>2357936</td><td>    NA</td><td>    NA</td><td>    NA</td><td>    NA</td><td>   NA</td><td>   NA</td><td>   NA</td><td>   NA</td></tr>\n",
       "\t<tr><th scope=row>2020</th><td>5675568</td><td>     NA</td><td>    NA</td><td>    NA</td><td>    NA</td><td>    NA</td><td>   NA</td><td>   NA</td><td>   NA</td><td>   NA</td></tr>\n",
       "</tbody>\n",
       "</table>\n"
      ],
      "text/latex": [
       "A triangle: 10 × 10 of type int\n",
       "\\begin{tabular}{r|llllllllll}\n",
       "  & 1 & 2 & 3 & 4 & 5 & 6 & 7 & 8 & 9 & 10\\\\\n",
       "\\hline\n",
       "\t2011 & 5946975 & 3721237 & 895717 & 207760 & 206704 &  62124 & 65813 & 14850 & 11130 & 15813\\\\\n",
       "\t2012 & 6346756 & 3246406 & 723222 & 151797 &  67824 &  36603 & 52752 & 11186 & 11646 &    NA\\\\\n",
       "\t2013 & 6269090 & 2976223 & 847053 & 262768 & 152703 &  65444 & 53545 &  8924 &    NA &    NA\\\\\n",
       "\t2014 & 5863015 & 2683224 & 722532 & 190653 & 132976 &  88340 & 43329 &    NA &    NA &    NA\\\\\n",
       "\t2015 & 5778885 & 2745229 & 653894 & 273395 & 230288 & 105224 &    NA &    NA &    NA &    NA\\\\\n",
       "\t2016 & 6184793 & 2828338 & 572765 & 244899 & 104957 &     NA &    NA &    NA &    NA &    NA\\\\\n",
       "\t2017 & 5600184 & 2893207 & 563114 & 225517 &     NA &     NA &    NA &    NA &    NA &    NA\\\\\n",
       "\t2018 & 5288066 & 2440103 & 528043 &     NA &     NA &     NA &    NA &    NA &    NA &    NA\\\\\n",
       "\t2019 & 5290793 & 2357936 &     NA &     NA &     NA &     NA &    NA &    NA &    NA &    NA\\\\\n",
       "\t2020 & 5675568 &      NA &     NA &     NA &     NA &     NA &    NA &    NA &    NA &    NA\\\\\n",
       "\\end{tabular}\n"
      ],
      "text/markdown": [
       "\n",
       "A triangle: 10 × 10 of type int\n",
       "\n",
       "| <!--/--> | 1 | 2 | 3 | 4 | 5 | 6 | 7 | 8 | 9 | 10 |\n",
       "|---|---|---|---|---|---|---|---|---|---|---|\n",
       "| 2011 | 5946975 | 3721237 | 895717 | 207760 | 206704 |  62124 | 65813 | 14850 | 11130 | 15813 |\n",
       "| 2012 | 6346756 | 3246406 | 723222 | 151797 |  67824 |  36603 | 52752 | 11186 | 11646 |    NA |\n",
       "| 2013 | 6269090 | 2976223 | 847053 | 262768 | 152703 |  65444 | 53545 |  8924 |    NA |    NA |\n",
       "| 2014 | 5863015 | 2683224 | 722532 | 190653 | 132976 |  88340 | 43329 |    NA |    NA |    NA |\n",
       "| 2015 | 5778885 | 2745229 | 653894 | 273395 | 230288 | 105224 |    NA |    NA |    NA |    NA |\n",
       "| 2016 | 6184793 | 2828338 | 572765 | 244899 | 104957 |     NA |    NA |    NA |    NA |    NA |\n",
       "| 2017 | 5600184 | 2893207 | 563114 | 225517 |     NA |     NA |    NA |    NA |    NA |    NA |\n",
       "| 2018 | 5288066 | 2440103 | 528043 |     NA |     NA |     NA |    NA |    NA |    NA |    NA |\n",
       "| 2019 | 5290793 | 2357936 |     NA |     NA |     NA |     NA |    NA |    NA |    NA |    NA |\n",
       "| 2020 | 5675568 |      NA |     NA |     NA |     NA |     NA |    NA |    NA |    NA |    NA |\n",
       "\n"
      ],
      "text/plain": [
       "        devyear\n",
       "accident 1       2       3      4      5      6      7     8     9     10   \n",
       "    2011 5946975 3721237 895717 207760 206704  62124 65813 14850 11130 15813\n",
       "    2012 6346756 3246406 723222 151797  67824  36603 52752 11186 11646    NA\n",
       "    2013 6269090 2976223 847053 262768 152703  65444 53545  8924    NA    NA\n",
       "    2014 5863015 2683224 722532 190653 132976  88340 43329    NA    NA    NA\n",
       "    2015 5778885 2745229 653894 273395 230288 105224    NA    NA    NA    NA\n",
       "    2016 6184793 2828338 572765 244899 104957     NA    NA    NA    NA    NA\n",
       "    2017 5600184 2893207 563114 225517     NA     NA    NA    NA    NA    NA\n",
       "    2018 5288066 2440103 528043     NA     NA     NA    NA    NA    NA    NA\n",
       "    2019 5290793 2357936     NA     NA     NA     NA    NA    NA    NA    NA\n",
       "    2020 5675568      NA     NA     NA     NA     NA    NA    NA    NA    NA"
      ]
     },
     "metadata": {},
     "output_type": "display_data"
    }
   ],
   "source": [
    "mack.tri <- as.triangle(myData,\n",
    "                       origin=\"accident\",\n",
    "                       dev=\"devyear\",\n",
    "                       value=\"paid\")\n",
    "mack.tri"
   ]
  },
  {
   "cell_type": "code",
   "execution_count": null,
   "metadata": {},
   "outputs": [],
   "source": []
  }
 ],
 "metadata": {
  "kernelspec": {
   "display_name": "R",
   "language": "R",
   "name": "ir"
  },
  "language_info": {
   "codemirror_mode": "r",
   "file_extension": ".r",
   "mimetype": "text/x-r-source",
   "name": "R",
   "pygments_lexer": "r",
   "version": "4.0.3"
  }
 },
 "nbformat": 4,
 "nbformat_minor": 4
}

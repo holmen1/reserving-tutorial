{
 "cells": [
  {
   "cell_type": "code",
   "execution_count": 1,
   "metadata": {},
   "outputs": [],
   "source": [
    "%matplotlib inline"
   ]
  },
  {
   "cell_type": "markdown",
   "metadata": {},
   "source": [
    "\n",
    "# Stochastic Bornhuetter Ferguson\n",
    "\n",
    "\n",
    "There are several aspects of the chainladder module that are demonstrated with\n",
    "this example.\n",
    "\n",
    "1. We see how to use the `BootstrapODPSample` and `BornhuetterFerguson` to come\n",
    "  up with a stochastic view of the Bornhuetter-Ferguson method.\n",
    "2. We use the `broadcast_axis` method of the triangle class (new in 0.4.7)\n",
    "\n",
    "\n"
   ]
  },
  {
   "cell_type": "code",
   "execution_count": 2,
   "metadata": {},
   "outputs": [
    {
     "data": {
      "text/html": [
       "<div>\n",
       "<style scoped>\n",
       "    .dataframe tbody tr th:only-of-type {\n",
       "        vertical-align: middle;\n",
       "    }\n",
       "\n",
       "    .dataframe tbody tr th {\n",
       "        vertical-align: top;\n",
       "    }\n",
       "\n",
       "    .dataframe thead th {\n",
       "        text-align: right;\n",
       "    }\n",
       "</style>\n",
       "<table border=\"1\" class=\"dataframe\">\n",
       "  <thead>\n",
       "    <tr style=\"text-align: right;\">\n",
       "      <th></th>\n",
       "      <th>accident</th>\n",
       "      <th>development</th>\n",
       "      <th>paid</th>\n",
       "    </tr>\n",
       "  </thead>\n",
       "  <tbody>\n",
       "    <tr>\n",
       "      <th>0</th>\n",
       "      <td>2011</td>\n",
       "      <td>2011</td>\n",
       "      <td>5946975</td>\n",
       "    </tr>\n",
       "    <tr>\n",
       "      <th>1</th>\n",
       "      <td>2012</td>\n",
       "      <td>2012</td>\n",
       "      <td>6346756</td>\n",
       "    </tr>\n",
       "    <tr>\n",
       "      <th>2</th>\n",
       "      <td>2013</td>\n",
       "      <td>2013</td>\n",
       "      <td>6269090</td>\n",
       "    </tr>\n",
       "    <tr>\n",
       "      <th>3</th>\n",
       "      <td>2014</td>\n",
       "      <td>2014</td>\n",
       "      <td>5863015</td>\n",
       "    </tr>\n",
       "    <tr>\n",
       "      <th>4</th>\n",
       "      <td>2015</td>\n",
       "      <td>2015</td>\n",
       "      <td>5778885</td>\n",
       "    </tr>\n",
       "  </tbody>\n",
       "</table>\n",
       "</div>"
      ],
      "text/plain": [
       "   accident  development     paid\n",
       "0      2011         2011  5946975\n",
       "1      2012         2012  6346756\n",
       "2      2013         2013  6269090\n",
       "3      2014         2014  5863015\n",
       "4      2015         2015  5778885"
      ]
     },
     "execution_count": 2,
     "metadata": {},
     "output_type": "execute_result"
    }
   ],
   "source": [
    "import numpy as np\n",
    "import pandas as pd\n",
    "import chainladder as cl\n",
    "\n",
    "# Simulation parameters\n",
    "random_state = 42\n",
    "n_sims = 1000\n",
    "\n",
    "# Get data\n",
    "data = pd.read_csv('./data/mack.csv')\n",
    "data.head()"
   ]
  },
  {
   "cell_type": "code",
   "execution_count": 3,
   "metadata": {},
   "outputs": [
    {
     "data": {
      "text/html": [
       "<table border=\"1\" class=\"dataframe\">\n",
       "  <thead>\n",
       "    <tr style=\"text-align: right;\">\n",
       "      <th></th>\n",
       "      <th>12</th>\n",
       "      <th>24</th>\n",
       "      <th>36</th>\n",
       "      <th>48</th>\n",
       "      <th>60</th>\n",
       "      <th>72</th>\n",
       "      <th>84</th>\n",
       "      <th>96</th>\n",
       "      <th>108</th>\n",
       "      <th>120</th>\n",
       "    </tr>\n",
       "  </thead>\n",
       "  <tbody>\n",
       "    <tr>\n",
       "      <th>2011</th>\n",
       "      <td>5,946,975</td>\n",
       "      <td>9,668,212</td>\n",
       "      <td>10,563,929</td>\n",
       "      <td>10,771,689</td>\n",
       "      <td>10,978,393</td>\n",
       "      <td>11,040,517</td>\n",
       "      <td>11,106,330</td>\n",
       "      <td>11,121,180</td>\n",
       "      <td>11,132,310</td>\n",
       "      <td>11,148,123</td>\n",
       "    </tr>\n",
       "    <tr>\n",
       "      <th>2012</th>\n",
       "      <td>6,346,756</td>\n",
       "      <td>9,593,162</td>\n",
       "      <td>10,316,384</td>\n",
       "      <td>10,468,181</td>\n",
       "      <td>10,536,005</td>\n",
       "      <td>10,572,608</td>\n",
       "      <td>10,625,360</td>\n",
       "      <td>10,636,546</td>\n",
       "      <td>10,648,192</td>\n",
       "      <td></td>\n",
       "    </tr>\n",
       "    <tr>\n",
       "      <th>2013</th>\n",
       "      <td>6,269,090</td>\n",
       "      <td>9,245,313</td>\n",
       "      <td>10,092,366</td>\n",
       "      <td>10,355,134</td>\n",
       "      <td>10,507,837</td>\n",
       "      <td>10,573,281</td>\n",
       "      <td>10,626,826</td>\n",
       "      <td>10,635,750</td>\n",
       "      <td></td>\n",
       "      <td></td>\n",
       "    </tr>\n",
       "    <tr>\n",
       "      <th>2014</th>\n",
       "      <td>5,863,015</td>\n",
       "      <td>8,546,239</td>\n",
       "      <td>9,268,771</td>\n",
       "      <td>9,459,424</td>\n",
       "      <td>9,592,400</td>\n",
       "      <td>9,680,740</td>\n",
       "      <td>9,724,069</td>\n",
       "      <td></td>\n",
       "      <td></td>\n",
       "      <td></td>\n",
       "    </tr>\n",
       "    <tr>\n",
       "      <th>2015</th>\n",
       "      <td>5,778,885</td>\n",
       "      <td>8,524,114</td>\n",
       "      <td>9,178,008</td>\n",
       "      <td>9,451,403</td>\n",
       "      <td>9,681,691</td>\n",
       "      <td>9,786,915</td>\n",
       "      <td></td>\n",
       "      <td></td>\n",
       "      <td></td>\n",
       "      <td></td>\n",
       "    </tr>\n",
       "    <tr>\n",
       "      <th>2016</th>\n",
       "      <td>6,184,793</td>\n",
       "      <td>9,013,131</td>\n",
       "      <td>9,585,896</td>\n",
       "      <td>9,830,795</td>\n",
       "      <td>9,935,752</td>\n",
       "      <td></td>\n",
       "      <td></td>\n",
       "      <td></td>\n",
       "      <td></td>\n",
       "      <td></td>\n",
       "    </tr>\n",
       "    <tr>\n",
       "      <th>2017</th>\n",
       "      <td>5,600,184</td>\n",
       "      <td>8,493,391</td>\n",
       "      <td>9,056,505</td>\n",
       "      <td>9,282,022</td>\n",
       "      <td></td>\n",
       "      <td></td>\n",
       "      <td></td>\n",
       "      <td></td>\n",
       "      <td></td>\n",
       "      <td></td>\n",
       "    </tr>\n",
       "    <tr>\n",
       "      <th>2018</th>\n",
       "      <td>5,288,066</td>\n",
       "      <td>7,728,169</td>\n",
       "      <td>8,256,212</td>\n",
       "      <td></td>\n",
       "      <td></td>\n",
       "      <td></td>\n",
       "      <td></td>\n",
       "      <td></td>\n",
       "      <td></td>\n",
       "      <td></td>\n",
       "    </tr>\n",
       "    <tr>\n",
       "      <th>2019</th>\n",
       "      <td>5,290,793</td>\n",
       "      <td>7,648,729</td>\n",
       "      <td></td>\n",
       "      <td></td>\n",
       "      <td></td>\n",
       "      <td></td>\n",
       "      <td></td>\n",
       "      <td></td>\n",
       "      <td></td>\n",
       "      <td></td>\n",
       "    </tr>\n",
       "    <tr>\n",
       "      <th>2020</th>\n",
       "      <td>5,675,568</td>\n",
       "      <td></td>\n",
       "      <td></td>\n",
       "      <td></td>\n",
       "      <td></td>\n",
       "      <td></td>\n",
       "      <td></td>\n",
       "      <td></td>\n",
       "      <td></td>\n",
       "      <td></td>\n",
       "    </tr>\n",
       "  </tbody>\n",
       "</table>"
      ],
      "text/plain": [
       "            12         24          36          48          60          72          84          96          108         120\n",
       "2011  5946975.0  9668212.0  10563929.0  10771689.0  10978393.0  11040517.0  11106330.0  11121180.0  11132310.0  11148123.0\n",
       "2012  6346756.0  9593162.0  10316384.0  10468181.0  10536005.0  10572608.0  10625360.0  10636546.0  10648192.0         NaN\n",
       "2013  6269090.0  9245313.0  10092366.0  10355134.0  10507837.0  10573281.0  10626826.0  10635750.0         NaN         NaN\n",
       "2014  5863015.0  8546239.0   9268771.0   9459424.0   9592400.0   9680740.0   9724069.0         NaN         NaN         NaN\n",
       "2015  5778885.0  8524114.0   9178008.0   9451403.0   9681691.0   9786915.0         NaN         NaN         NaN         NaN\n",
       "2016  6184793.0  9013131.0   9585896.0   9830795.0   9935752.0         NaN         NaN         NaN         NaN         NaN\n",
       "2017  5600184.0  8493391.0   9056505.0   9282022.0         NaN         NaN         NaN         NaN         NaN         NaN\n",
       "2018  5288066.0  7728169.0   8256212.0         NaN         NaN         NaN         NaN         NaN         NaN         NaN\n",
       "2019  5290793.0  7648729.0         NaN         NaN         NaN         NaN         NaN         NaN         NaN         NaN\n",
       "2020  5675568.0        NaN         NaN         NaN         NaN         NaN         NaN         NaN         NaN         NaN"
      ]
     },
     "execution_count": 3,
     "metadata": {},
     "output_type": "execute_result"
    }
   ],
   "source": [
    "x = cl.Triangle(\n",
    "    data=data.fillna(0), origin='accident', development='development', columns='paid').incr_to_cum()\n",
    "x"
   ]
  },
  {
   "cell_type": "markdown",
   "metadata": {},
   "source": [
    "### Basic Chainladder\n",
    "\n",
    "The basic chainladder method is entirely specified by its development pattern selections.  For this reason, the `Chainladder` estimator takes no additional assumptions, i.e. no additional arguments."
   ]
  },
  {
   "cell_type": "code",
   "execution_count": 4,
   "metadata": {},
   "outputs": [
    {
     "data": {
      "text/plain": [
       "MackChainladder()"
      ]
     },
     "execution_count": 4,
     "metadata": {},
     "output_type": "execute_result"
    }
   ],
   "source": [
    "cl.MackChainladder()"
   ]
  },
  {
   "cell_type": "code",
   "execution_count": 5,
   "metadata": {},
   "outputs": [],
   "source": [
    "mack_dev = cl.Pipeline(\n",
    "    [('dev', cl.Development())\n",
    "    ,('tail', cl.TailCurve())\n",
    "    ]\n",
    ").fit_transform(x)"
   ]
  },
  {
   "cell_type": "code",
   "execution_count": 6,
   "metadata": {},
   "outputs": [],
   "source": [
    "mack_model = cl.MackChainladder().fit(mack_dev)"
   ]
  },
  {
   "cell_type": "code",
   "execution_count": 7,
   "metadata": {},
   "outputs": [
    {
     "data": {
      "text/html": [
       "<table border=\"1\" class=\"dataframe\">\n",
       "  <thead>\n",
       "    <tr style=\"text-align: right;\">\n",
       "      <th></th>\n",
       "      <th>12-24</th>\n",
       "      <th>24-36</th>\n",
       "      <th>36-48</th>\n",
       "      <th>48-60</th>\n",
       "      <th>60-72</th>\n",
       "      <th>72-84</th>\n",
       "      <th>84-96</th>\n",
       "      <th>96-108</th>\n",
       "      <th>108-120</th>\n",
       "      <th>120-132</th>\n",
       "      <th>132-144</th>\n",
       "    </tr>\n",
       "  </thead>\n",
       "  <tbody>\n",
       "    <tr>\n",
       "      <th>(All)</th>\n",
       "      <td>1.4925</td>\n",
       "      <td>1.0778</td>\n",
       "      <td>1.0229</td>\n",
       "      <td>1.0148</td>\n",
       "      <td>1.0070</td>\n",
       "      <td>1.0051</td>\n",
       "      <td>1.0011</td>\n",
       "      <td>1.0010</td>\n",
       "      <td>1.0014</td>\n",
       "      <td>1.0003</td>\n",
       "      <td>1.0002</td>\n",
       "    </tr>\n",
       "  </tbody>\n",
       "</table>"
      ],
      "text/plain": [
       "          12-24    24-36     36-48     48-60     60-72     72-84    84-96    96-108  108-120   120-132   132-144\n",
       "(All)  1.492536  1.07776  1.022873  1.014841  1.006974  1.005146  1.00108  1.001047  1.00142  1.000258  1.000243"
      ]
     },
     "execution_count": 7,
     "metadata": {},
     "output_type": "execute_result"
    }
   ],
   "source": [
    "mack_model.ldf_"
   ]
  },
  {
   "cell_type": "code",
   "execution_count": 8,
   "metadata": {},
   "outputs": [
    {
     "data": {
      "text/html": [
       "<table border=\"1\" class=\"dataframe\">\n",
       "  <thead>\n",
       "    <tr style=\"text-align: right;\">\n",
       "      <th></th>\n",
       "      <th>2262</th>\n",
       "    </tr>\n",
       "  </thead>\n",
       "  <tbody>\n",
       "    <tr>\n",
       "      <th>2011</th>\n",
       "      <td>11,153,713</td>\n",
       "    </tr>\n",
       "    <tr>\n",
       "      <th>2012</th>\n",
       "      <td>10,668,664</td>\n",
       "    </tr>\n",
       "    <tr>\n",
       "      <th>2013</th>\n",
       "      <td>10,667,353</td>\n",
       "    </tr>\n",
       "    <tr>\n",
       "      <th>2014</th>\n",
       "      <td>9,763,500</td>\n",
       "    </tr>\n",
       "    <tr>\n",
       "      <th>2015</th>\n",
       "      <td>9,877,167</td>\n",
       "    </tr>\n",
       "    <tr>\n",
       "      <th>2016</th>\n",
       "      <td>10,097,306</td>\n",
       "    </tr>\n",
       "    <tr>\n",
       "      <th>2017</th>\n",
       "      <td>9,572,940</td>\n",
       "    </tr>\n",
       "    <tr>\n",
       "      <th>2018</th>\n",
       "      <td>8,709,744</td>\n",
       "    </tr>\n",
       "    <tr>\n",
       "      <th>2019</th>\n",
       "      <td>8,696,329</td>\n",
       "    </tr>\n",
       "    <tr>\n",
       "      <th>2020</th>\n",
       "      <td>9,631,210</td>\n",
       "    </tr>\n",
       "  </tbody>\n",
       "</table>"
      ],
      "text/plain": [
       "              2262\n",
       "2011  1.115371e+07\n",
       "2012  1.066866e+07\n",
       "2013  1.066735e+07\n",
       "2014  9.763500e+06\n",
       "2015  9.877167e+06\n",
       "2016  1.009731e+07\n",
       "2017  9.572940e+06\n",
       "2018  8.709744e+06\n",
       "2019  8.696329e+06\n",
       "2020  9.631210e+06"
      ]
     },
     "execution_count": 8,
     "metadata": {},
     "output_type": "execute_result"
    }
   ],
   "source": [
    "mack_model.ultimate_"
   ]
  },
  {
   "cell_type": "code",
   "execution_count": 9,
   "metadata": {},
   "outputs": [
    {
     "data": {
      "text/plain": [
       "6096594.64664077"
      ]
     },
     "execution_count": 9,
     "metadata": {},
     "output_type": "execute_result"
    }
   ],
   "source": [
    "np.sum(mack_model.ibnr_)"
   ]
  },
  {
   "cell_type": "code",
   "execution_count": 10,
   "metadata": {},
   "outputs": [
    {
     "data": {
      "image/png": "[encoded data removed]",
      "text/plain": [
       "<Figure size 432x288 with 1 Axes>"
      ]
     },
     "metadata": {
      "needs_background": "light"
     },
     "output_type": "display_data"
    }
   ],
   "source": [
    "plot_data = mack_model.summary_.to_frame()\n",
    "g = plot_data[['Latest', 'IBNR']] \\\n",
    "    .plot(kind='bar', stacked=True,\n",
    "          yerr=pd.DataFrame({'latest': plot_data['Mack Std Err']*0,\n",
    "                             'IBNR': plot_data['Mack Std Err']}),\n",
    "          ylim=(0, None), title='Mack Chainladder Ultimate')\n",
    "g.set_xlabel('Accident Year')\n",
    "g.set_ylabel('Loss');"
   ]
  },
  {
   "cell_type": "code",
   "execution_count": 11,
   "metadata": {},
   "outputs": [
    {
     "data": {
      "text/html": [
       "<table border=\"1\" class=\"dataframe\">\n",
       "  <thead>\n",
       "    <tr style=\"text-align: right;\">\n",
       "      <th></th>\n",
       "      <th>Latest</th>\n",
       "      <th>IBNR</th>\n",
       "      <th>Ultimate</th>\n",
       "      <th>Mack Std Err</th>\n",
       "    </tr>\n",
       "  </thead>\n",
       "  <tbody>\n",
       "    <tr>\n",
       "      <th>2011</th>\n",
       "      <td>11,148,123</td>\n",
       "      <td>5,590</td>\n",
       "      <td>11,153,713</td>\n",
       "      <td>620</td>\n",
       "    </tr>\n",
       "    <tr>\n",
       "      <th>2012</th>\n",
       "      <td>10,648,192</td>\n",
       "      <td>20,472</td>\n",
       "      <td>10,668,664</td>\n",
       "      <td>935</td>\n",
       "    </tr>\n",
       "    <tr>\n",
       "      <th>2013</th>\n",
       "      <td>10,635,750</td>\n",
       "      <td>31,603</td>\n",
       "      <td>10,667,353</td>\n",
       "      <td>1,280</td>\n",
       "    </tr>\n",
       "    <tr>\n",
       "      <th>2014</th>\n",
       "      <td>9,724,069</td>\n",
       "      <td>39,431</td>\n",
       "      <td>9,763,500</td>\n",
       "      <td>3,174</td>\n",
       "    </tr>\n",
       "    <tr>\n",
       "      <th>2015</th>\n",
       "      <td>9,786,915</td>\n",
       "      <td>90,252</td>\n",
       "      <td>9,877,167</td>\n",
       "      <td>7,678</td>\n",
       "    </tr>\n",
       "    <tr>\n",
       "      <th>2016</th>\n",
       "      <td>9,935,752</td>\n",
       "      <td>161,554</td>\n",
       "      <td>10,097,306</td>\n",
       "      <td>33,369</td>\n",
       "    </tr>\n",
       "    <tr>\n",
       "      <th>2017</th>\n",
       "      <td>9,282,022</td>\n",
       "      <td>290,918</td>\n",
       "      <td>9,572,940</td>\n",
       "      <td>73,508</td>\n",
       "    </tr>\n",
       "    <tr>\n",
       "      <th>2018</th>\n",
       "      <td>8,256,212</td>\n",
       "      <td>453,532</td>\n",
       "      <td>8,709,744</td>\n",
       "      <td>85,445</td>\n",
       "    </tr>\n",
       "    <tr>\n",
       "      <th>2019</th>\n",
       "      <td>7,648,729</td>\n",
       "      <td>1,047,600</td>\n",
       "      <td>8,696,329</td>\n",
       "      <td>134,406</td>\n",
       "    </tr>\n",
       "    <tr>\n",
       "      <th>2020</th>\n",
       "      <td>5,675,568</td>\n",
       "      <td>3,955,642</td>\n",
       "      <td>9,631,210</td>\n",
       "      <td>411,024</td>\n",
       "    </tr>\n",
       "  </tbody>\n",
       "</table>"
      ],
      "text/plain": [
       "          Latest          IBNR      Ultimate   Mack Std Err\n",
       "2011  11148123.0  5.590080e+03  1.115371e+07     619.504281\n",
       "2012  10648192.0  2.047231e+04  1.066866e+07     934.915082\n",
       "2013  10635750.0  3.160330e+04  1.066735e+07    1280.364897\n",
       "2014   9724069.0  3.943137e+04  9.763500e+06    3173.510298\n",
       "2015   9786915.0  9.025172e+04  9.877167e+06    7678.492565\n",
       "2016   9935752.0  1.615541e+05  1.009731e+07   33369.129825\n",
       "2017   9282022.0  2.909183e+05  9.572940e+06   73508.422845\n",
       "2018   8256212.0  4.535316e+05  8.709744e+06   85444.626582\n",
       "2019   7648729.0  1.047600e+06  8.696329e+06  134406.019214\n",
       "2020   5675568.0  3.955642e+06  9.631210e+06  411023.996342"
      ]
     },
     "execution_count": 11,
     "metadata": {},
     "output_type": "execute_result"
    }
   ],
   "source": [
    "mack_model.summary_"
   ]
  },
  {
   "cell_type": "markdown",
   "metadata": {},
   "source": [
    "# Stochastic Bornhuetter Ferguson\n",
    "\n",
    "\n",
    "There are several aspects of the chainladder module that are demonstrated with\n",
    "this example.\n",
    "\n",
    "1. We see how to use the `BootstrapODPSample` and `BornhuetterFerguson` to come\n",
    "  up with a stochastic view of the Bornhuetter-Ferguson method.\n",
    "2. We use the `broadcast_axis` method of the triangle class (new in 0.4.7)"
   ]
  },
  {
   "cell_type": "code",
   "execution_count": 20,
   "metadata": {},
   "outputs": [
    {
     "data": {
      "text/html": [
       "<table border=\"1\" class=\"dataframe\">\n",
       "  <thead>\n",
       "    <tr style=\"text-align: right;\">\n",
       "      <th></th>\n",
       "      <th>2020</th>\n",
       "    </tr>\n",
       "  </thead>\n",
       "  <tbody>\n",
       "    <tr>\n",
       "      <th>2011</th>\n",
       "      <td>11,653,101</td>\n",
       "    </tr>\n",
       "    <tr>\n",
       "      <th>2012</th>\n",
       "      <td>11,367,306</td>\n",
       "    </tr>\n",
       "    <tr>\n",
       "      <th>2013</th>\n",
       "      <td>10,962,965</td>\n",
       "    </tr>\n",
       "    <tr>\n",
       "      <th>2014</th>\n",
       "      <td>10,616,762</td>\n",
       "    </tr>\n",
       "    <tr>\n",
       "      <th>2015</th>\n",
       "      <td>11,044,881</td>\n",
       "    </tr>\n",
       "    <tr>\n",
       "      <th>2016</th>\n",
       "      <td>11,480,700</td>\n",
       "    </tr>\n",
       "    <tr>\n",
       "      <th>2017</th>\n",
       "      <td>11,413,572</td>\n",
       "    </tr>\n",
       "    <tr>\n",
       "      <th>2018</th>\n",
       "      <td>11,126,527</td>\n",
       "    </tr>\n",
       "    <tr>\n",
       "      <th>2019</th>\n",
       "      <td>10,986,548</td>\n",
       "    </tr>\n",
       "    <tr>\n",
       "      <th>2020</th>\n",
       "      <td>11,618,437</td>\n",
       "    </tr>\n",
       "  </tbody>\n",
       "</table>"
      ],
      "text/plain": [
       "            2020\n",
       "2011  11653101.0\n",
       "2012  11367306.0\n",
       "2013  10962965.0\n",
       "2014  10616762.0\n",
       "2015  11044881.0\n",
       "2016  11480700.0\n",
       "2017  11413572.0\n",
       "2018  11126527.0\n",
       "2019  10986548.0\n",
       "2020  11618437.0"
      ]
     },
     "execution_count": 20,
     "metadata": {},
     "output_type": "execute_result"
    }
   ],
   "source": [
    "mu = np.array([11653101,11367306,10962965,10616762,11044881,11480700,11413572,11126527,10986548,11618437])\n",
    "premium = x.latest_diagonal*0 + np.reshape(mu, x.latest_diagonal.shape)\n",
    "premium"
   ]
  },
  {
   "cell_type": "code",
   "execution_count": 21,
   "metadata": {},
   "outputs": [
    {
     "data": {
      "text/plain": [
       "BootstrapODPSample(drop=None, drop_high=None, drop_low=None,\n",
       "                   drop_valuation=None, hat_adj=True, n_periods=-1, n_sims=1000,\n",
       "                   random_state=42)"
      ]
     },
     "execution_count": 21,
     "metadata": {},
     "output_type": "execute_result"
    }
   ],
   "source": [
    "# Simulate loss triangles\n",
    "sim = cl.BootstrapODPSample(random_state=random_state, n_sims=n_sims)\n",
    "sim.fit(x, sample_weight=premium)"
   ]
  },
  {
   "cell_type": "code",
   "execution_count": 22,
   "metadata": {},
   "outputs": [
    {
     "data": {
      "text/plain": [
       "BornhuetterFerguson(apriori=1.0, apriori_sigma=0.0, random_state=None)"
      ]
     },
     "execution_count": 22,
     "metadata": {},
     "output_type": "execute_result"
    }
   ],
   "source": [
    "# Fit Bornhuetter-Ferguson to stochastically generated data\n",
    "model = cl.BornhuetterFerguson(1.0, apriori_sigma=0.0)\n",
    "model.fit(sim.resampled_triangles_, sample_weight=premium)"
   ]
  },
  {
   "cell_type": "code",
   "execution_count": 23,
   "metadata": {},
   "outputs": [],
   "source": [
    "ibnr = model.ibnr_.sum('origin')"
   ]
  },
  {
   "cell_type": "code",
   "execution_count": 24,
   "metadata": {},
   "outputs": [
    {
     "data": {
      "text/plain": [
       "7349919.419963395"
      ]
     },
     "execution_count": 24,
     "metadata": {},
     "output_type": "execute_result"
    }
   ],
   "source": [
    "ibnr.mean()"
   ]
  },
  {
   "cell_type": "code",
   "execution_count": 25,
   "metadata": {},
   "outputs": [
    {
     "name": "stderr",
     "output_type": "stream",
     "text": [
      "/Users/holmen1/opt/anaconda3/lib/python3.7/site-packages/chainladder/core/pandas.py:280: RuntimeWarning: Mean of empty slice\n",
      "  obj.values = func(obj.values, axis=axis, *args, **kwargs)\n"
     ]
    },
    {
     "data": {
      "text/html": [
       "<table border=\"1\" class=\"dataframe\">\n",
       "  <thead>\n",
       "    <tr style=\"text-align: right;\">\n",
       "      <th></th>\n",
       "      <th>2262</th>\n",
       "    </tr>\n",
       "  </thead>\n",
       "  <tbody>\n",
       "    <tr>\n",
       "      <th>2011</th>\n",
       "      <td></td>\n",
       "    </tr>\n",
       "    <tr>\n",
       "      <th>2012</th>\n",
       "      <td>15,862</td>\n",
       "    </tr>\n",
       "    <tr>\n",
       "      <th>2013</th>\n",
       "      <td>26,763</td>\n",
       "    </tr>\n",
       "    <tr>\n",
       "      <th>2014</th>\n",
       "      <td>37,191</td>\n",
       "    </tr>\n",
       "    <tr>\n",
       "      <th>2015</th>\n",
       "      <td>95,025</td>\n",
       "    </tr>\n",
       "    <tr>\n",
       "      <th>2016</th>\n",
       "      <td>177,605</td>\n",
       "    </tr>\n",
       "    <tr>\n",
       "      <th>2017</th>\n",
       "      <td>341,119</td>\n",
       "    </tr>\n",
       "    <tr>\n",
       "      <th>2018</th>\n",
       "      <td>574,070</td>\n",
       "    </tr>\n",
       "    <tr>\n",
       "      <th>2019</th>\n",
       "      <td>1,315,978</td>\n",
       "    </tr>\n",
       "    <tr>\n",
       "      <th>2020</th>\n",
       "      <td>4,766,306</td>\n",
       "    </tr>\n",
       "  </tbody>\n",
       "</table>"
      ],
      "text/plain": [
       "              2262\n",
       "2011           NaN\n",
       "2012  1.586198e+04\n",
       "2013  2.676343e+04\n",
       "2014  3.719138e+04\n",
       "2015  9.502504e+04\n",
       "2016  1.776046e+05\n",
       "2017  3.411193e+05\n",
       "2018  5.740695e+05\n",
       "2019  1.315978e+06\n",
       "2020  4.766306e+06"
      ]
     },
     "execution_count": 25,
     "metadata": {},
     "output_type": "execute_result"
    }
   ],
   "source": [
    "model.ibnr_.mean()"
   ]
  },
  {
   "cell_type": "code",
   "execution_count": 26,
   "metadata": {},
   "outputs": [
    {
     "name": "stderr",
     "output_type": "stream",
     "text": [
      "/Users/holmen1/opt/anaconda3/lib/python3.7/site-packages/numpy/lib/nanfunctions.py:1667: RuntimeWarning: Degrees of freedom <= 0 for slice.\n",
      "  keepdims=keepdims)\n"
     ]
    },
    {
     "data": {
      "text/html": [
       "<table border=\"1\" class=\"dataframe\">\n",
       "  <thead>\n",
       "    <tr style=\"text-align: right;\">\n",
       "      <th></th>\n",
       "      <th>2262</th>\n",
       "    </tr>\n",
       "  </thead>\n",
       "  <tbody>\n",
       "    <tr>\n",
       "      <th>2011</th>\n",
       "      <td></td>\n",
       "    </tr>\n",
       "    <tr>\n",
       "      <th>2012</th>\n",
       "      <td>16,183</td>\n",
       "    </tr>\n",
       "    <tr>\n",
       "      <th>2013</th>\n",
       "      <td>18,302</td>\n",
       "    </tr>\n",
       "    <tr>\n",
       "      <th>2014</th>\n",
       "      <td>19,169</td>\n",
       "    </tr>\n",
       "    <tr>\n",
       "      <th>2015</th>\n",
       "      <td>24,180</td>\n",
       "    </tr>\n",
       "    <tr>\n",
       "      <th>2016</th>\n",
       "      <td>29,206</td>\n",
       "    </tr>\n",
       "    <tr>\n",
       "      <th>2017</th>\n",
       "      <td>35,704</td>\n",
       "    </tr>\n",
       "    <tr>\n",
       "      <th>2018</th>\n",
       "      <td>40,639</td>\n",
       "    </tr>\n",
       "    <tr>\n",
       "      <th>2019</th>\n",
       "      <td>53,722</td>\n",
       "    </tr>\n",
       "    <tr>\n",
       "      <th>2020</th>\n",
       "      <td>77,381</td>\n",
       "    </tr>\n",
       "  </tbody>\n",
       "</table>"
      ],
      "text/plain": [
       "              2262\n",
       "2011           NaN\n",
       "2012  16182.795517\n",
       "2013  18302.094275\n",
       "2014  19168.633317\n",
       "2015  24179.572194\n",
       "2016  29206.477398\n",
       "2017  35703.631786\n",
       "2018  40639.493932\n",
       "2019  53722.427832\n",
       "2020  77381.125424"
      ]
     },
     "execution_count": 26,
     "metadata": {},
     "output_type": "execute_result"
    }
   ],
   "source": [
    "model.ibnr_.std()"
   ]
  },
  {
   "cell_type": "code",
   "execution_count": 27,
   "metadata": {},
   "outputs": [
    {
     "data": {
      "text/plain": [
       "[]"
      ]
     },
     "execution_count": 27,
     "metadata": {},
     "output_type": "execute_result"
    },
    {
     "data": {
      "image/png": "[encoded data removed]",
      "text/plain": [
       "<Figure size 432x288 with 1 Axes>"
      ]
     },
     "metadata": {
      "needs_background": "light"
     },
     "output_type": "display_data"
    }
   ],
   "source": [
    "ibnr.plot(kind='hist', bins=50, alpha=0.7, color='green').plot()"
   ]
  },
  {
   "cell_type": "code",
   "execution_count": 28,
   "metadata": {},
   "outputs": [
    {
     "data": {
      "image/png": "[encoded data removed]",
      "text/plain": [
       "<Figure size 432x288 with 1 Axes>"
      ]
     },
     "metadata": {
      "needs_background": "light"
     },
     "output_type": "display_data"
    }
   ],
   "source": [
    "# Grab completed triangle replacing simulated known data with actual known data\n",
    "full_triangle = model.full_triangle_ - model.X_ + \\\n",
    "                x.broadcast_axis('index', sim.resampled_triangles_.index)\n",
    "\n",
    "# Limiting to the current year for plotting\n",
    "current_year = full_triangle[full_triangle.origin==full_triangle.origin.max()].to_frame().T\n",
    "\n",
    "# Plot the data\n",
    "current_year.reset_index(drop=True).plot(\n",
    "    color='orange', legend=False, alpha=0.1,\n",
    "    title='Current Accident Year BornFerg Distribution', grid=True);"
   ]
  },
  {
   "cell_type": "code",
   "execution_count": 29,
   "metadata": {},
   "outputs": [
    {
     "data": {
      "text/plain": [
       "(1000, 1, 10, 12)"
      ]
     },
     "execution_count": 29,
     "metadata": {},
     "output_type": "execute_result"
    }
   ],
   "source": [
    "full_triangle.shape"
   ]
  },
  {
   "cell_type": "code",
   "execution_count": null,
   "metadata": {},
   "outputs": [],
   "source": []
  }
 ],
 "metadata": {
  "kernelspec": {
   "display_name": "Python 3",
   "language": "python",
   "name": "python3"
  },
  "language_info": {
   "codemirror_mode": {
    "name": "ipython",
    "version": 3
   },
   "file_extension": ".py",
   "mimetype": "text/x-python",
   "name": "python",
   "nbconvert_exporter": "python",
   "pygments_lexer": "ipython3",
   "version": "3.7.7"
  }
 },
 "nbformat": 4,
 "nbformat_minor": 1
}
